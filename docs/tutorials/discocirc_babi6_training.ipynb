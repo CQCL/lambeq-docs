{
 "cells": [
  {
   "cell_type": "markdown",
   "id": "48aad21d",
   "metadata": {},
   "source": [
    "# Tutorial: BabI6 Training and Preprocessing in Python (Part II)\n",
    "\n",
    "In Part I of this tutorial, we learned how to create {term}`DisCoCirc` circuits for question asking for the babI6 dataset. In this part, we proceed to train the model with the circuits that we created."
   ]
  },
  {
   "cell_type": "code",
   "execution_count": 1,
   "id": "b67efc5e",
   "metadata": {},
   "outputs": [],
   "source": [
    "# Parameters determining the type of the data\n",
    "# SANDWICH functor flag\n",
    "SANDWICH = True\n",
    "\n",
    "# Updating the FFL Parameter\n",
    "FFL = False\n",
    "\n",
    "# Names of Resulting file paths for the Datasets\n",
    "TRAINING_DATASET_FILEPATH = 'tutorial_training_ffl' + str(FFL) + '_sandwich_' + str(SANDWICH) + '.pkl'\n",
    "VALIDATION_DATASET_FILEPATH = 'tutorial_validation_ffl' + str(FFL) + '_sandwich_' + str(SANDWICH) + '.pkl'\n",
    "TEST_DATASET_FILEPATH = 'tutorial_test_ffl' + str(FFL) + '_sandwich_' + str(SANDWICH) + '.pkl'\n",
    "\n",
    "BATCH_SIZE = 5\n",
    "EPOCHS = 30\n",
    "LEARNING_RATE = 0.005"
   ]
  },
  {
   "cell_type": "markdown",
   "id": "88228542",
   "metadata": {},
   "source": [
    "To guarantee reproducibility, we make sure to manually seed torch and random."
   ]
  },
  {
   "cell_type": "code",
   "execution_count": 2,
   "id": "52347a8c",
   "metadata": {},
   "outputs": [],
   "source": [
    "import torch\n",
    "import numpy as np\n",
    "import random\n",
    "\n",
    "def set_pytorch_seed(seed_value):\n",
    "    random.seed(seed_value)\n",
    "    np.random.seed(seed_value)\n",
    "    torch.manual_seed(seed_value)\n",
    "    torch.use_deterministic_algorithms(True)\n",
    "    if torch.cuda.is_available():\n",
    "        torch.cuda.manual_seed(seed_value)\n",
    "        torch.cuda.manual_seed_all(seed_value)\n",
    "    torch.backends.cudnn.deterministic =  True\n",
    "    torch.backends.cudnn.benchmark = False\n",
    "\n",
    "SEED = 2\n",
    "set_pytorch_seed(SEED)\n",
    "device = torch.device(\"cpu\")"
   ]
  },
  {
   "cell_type": "markdown",
   "id": "0f9091f4",
   "metadata": {},
   "source": [
    "## 8. Training the Circuits and Tests\n",
    "Now that we have the data ready, we proceed with the training as usual. However, we need to override the forward() method to deal with pairs of circuits instead of single circuits."
   ]
  },
  {
   "cell_type": "code",
   "execution_count": 3,
   "id": "c6023fa1",
   "metadata": {},
   "outputs": [
    {
     "name": "stderr",
     "output_type": "stream",
     "text": [
      "/Users/ouissal.moumou/actual_discocirc/lambeq-docs/tutorials_env/lib/python3.11/site-packages/tqdm/auto.py:21: TqdmWarning: IProgress not found. Please update jupyter and ipywidgets. See https://ipywidgets.readthedocs.io/en/stable/user_install.html\n",
      "  from .autonotebook import tqdm as notebook_tqdm\n"
     ]
    }
   ],
   "source": [
    "import pickle\n",
    "\n",
    "training_dict_babi6 = {}\n",
    "with open(TRAINING_DATASET_FILEPATH, 'rb') as file:\n",
    "    training_dict_babi6 = pickle.load(file)\n",
    "\n",
    "val_dict_babi6 = {}\n",
    "with open(VALIDATION_DATASET_FILEPATH, 'rb') as file:\n",
    "    val_dict_babi6 = pickle.load(file)\n",
    "\n",
    "test_dict_babi6 = {}\n",
    "with open(TEST_DATASET_FILEPATH, 'rb') as file:\n",
    "    test_dict_babi6 = pickle.load(file)"
   ]
  },
  {
   "cell_type": "code",
   "execution_count": 4,
   "id": "1565fb9d",
   "metadata": {},
   "outputs": [],
   "source": [
    "training_circuits = []\n",
    "training_answers = []\n",
    "training_questions = []\n",
    "training_contexts = []\n",
    "\n",
    "for key, value in training_dict_babi6.items():\n",
    "    training_answers.append(value['answer'])\n",
    "    training_questions.append(value['question'])\n",
    "    training_contexts.append(value['text'])\n",
    "    training_circuits.append(value['quantum_circ_pair_aff_neg'])\n",
    "\n",
    "val_circuits = []\n",
    "val_answers = []\n",
    "val_questions = []\n",
    "val_contexts = []\n",
    "\n",
    "for key, value in val_dict_babi6.items():\n",
    "    val_answers.append(value['answer'])\n",
    "    val_questions.append(value['question'])\n",
    "    val_contexts.append(value['text'])\n",
    "    val_circuits.append(value['quantum_circ_pair_aff_neg'])\n",
    "    \n",
    "test_circuits = []\n",
    "test_answers = []\n",
    "test_questions = []\n",
    "test_contexts = []\n",
    "\n",
    "for key, value in test_dict_babi6.items():\n",
    "    test_answers.append(value['answer'])\n",
    "    test_questions.append(value['question'])\n",
    "    test_contexts.append(value['text'])\n",
    "    test_circuits.append(value['quantum_circ_pair_aff_neg'])"
   ]
  },
  {
   "cell_type": "markdown",
   "id": "99b9ac0c",
   "metadata": {},
   "source": [
    "The final output of the model is going to be a vector that we can interpret as a probability distribution over the possible answers (in this case [yes, no]). Therefore, We modify the yes and no answers and replace their representations with a one hot encoding over the possible assertions, i.e. by \"[1, 0]\"s and \"[0, 1]\"s respectively."
   ]
  },
  {
   "cell_type": "code",
   "execution_count": 5,
   "id": "007b6bc8",
   "metadata": {},
   "outputs": [],
   "source": [
    "training_answers = [[0., 1.] if not answer else [1., 0.] for answer in training_answers]\n",
    "val_answers = [[0., 1.] if not answer else [1., 0.] for answer in val_answers]\n",
    "test_answers = [[0., 1.] if not answer else [1., 0.] for answer in test_answers]"
   ]
  },
  {
   "cell_type": "code",
   "execution_count": 6,
   "id": "6857d72a",
   "metadata": {},
   "outputs": [
    {
     "data": {
      "text/plain": [
       "62"
      ]
     },
     "execution_count": 6,
     "metadata": {},
     "output_type": "execute_result"
    }
   ],
   "source": [
    "# this is strictly for debugging and should be removed once cleared\n",
    "len(training_answers)"
   ]
  },
  {
   "cell_type": "markdown",
   "id": "1d54c0c2",
   "metadata": {},
   "source": [
    "The following shows how we override the forward() method to accommodate having pairs of circuits."
   ]
  },
  {
   "cell_type": "code",
   "execution_count": 7,
   "id": "67d6507a",
   "metadata": {},
   "outputs": [],
   "source": [
    "from lambeq import PytorchQuantumModel\n",
    "from lambeq.backend.quantum import Diagram\n",
    "import torch\n",
    "\n",
    "\n",
    "class PairCircuitModel(PytorchQuantumModel):\n",
    "    def forward(self, circ_pairs: list[tuple[Diagram, Diagram]]) -> torch.Tensor:\n",
    "        aff_circs, neg_circs = zip(*circ_pairs)\n",
    "        aff_out = abs(self.get_diagram_output(aff_circs))\n",
    "        neg_out = abs(self.get_diagram_output(neg_circs))\n",
    "\n",
    "        # implement a function that would merge aff_out and neg_out into an nx2 tensor\n",
    "        out_tensor = torch.stack((aff_out, neg_out), dim=1)\n",
    "        out_tensor = torch.softmax(out_tensor, dim=1)\n",
    "    \n",
    "        return out_tensor"
   ]
  },
  {
   "cell_type": "markdown",
   "id": "549f1f68",
   "metadata": {},
   "source": [
    "The way circuits are stored in our current example is as pairs. However, we need to pass all the circuits to the model for initialization. Therefore, we will create a new collection of circuits that includes all the circuits from the pairs of circuits that we originally have."
   ]
  },
  {
   "cell_type": "code",
   "execution_count": 8,
   "id": "84d09be7",
   "metadata": {},
   "outputs": [],
   "source": [
    "all_circuits = [\n",
    "    circuit\n",
    "    for circuit_tuple in training_circuits + val_circuits + test_circuits\n",
    "    for circuit in circuit_tuple\n",
    "]\n",
    "\n",
    "backend_config = {'backend': 'default.qubit'}  \n",
    "model = PairCircuitModel.from_diagrams(all_circuits)\n",
    "model.initialise_weights()\n"
   ]
  },
  {
   "cell_type": "code",
   "execution_count": 9,
   "id": "d1fcdbe8",
   "metadata": {},
   "outputs": [
    {
     "data": {
      "text/plain": [
       "Parameter containing:\n",
       "tensor([0.6147, 0.3810, 0.6371, 0.4745, 0.7136, 0.6190, 0.4425, 0.0958, 0.6142,\n",
       "        0.0573, 0.5657, 0.5332, 0.3901, 0.9088, 0.5334, 0.7073, 0.7116, 0.2050,\n",
       "        0.3078, 0.9809, 0.0103, 0.4660, 0.4604, 0.8547, 0.4525, 0.6317, 0.4760,\n",
       "        0.2200, 0.2166, 0.2571, 0.0458, 0.1755, 0.6177, 0.8291, 0.5246, 0.2708,\n",
       "        0.7197, 0.3081, 0.3892, 0.2259, 0.3430, 0.0367, 0.7133, 0.6944, 0.5993,\n",
       "        0.7455, 0.7119, 0.5221, 0.5530, 0.5382, 0.7668, 0.8359, 0.8591, 0.7898,\n",
       "        0.3781, 0.4777, 0.3984, 0.7909, 0.5555, 0.9628, 0.7536, 0.0727, 0.6463,\n",
       "        0.9804, 0.9441, 0.4921, 0.6659, 0.0310, 0.3406, 0.7438, 0.0445, 0.9356,\n",
       "        0.1712, 0.6581, 0.4811, 0.5881, 0.5484, 0.0326, 0.3926, 0.1839, 0.9251,\n",
       "        0.4386, 0.0021, 0.6211, 0.7171, 0.2762, 0.4531, 0.7162, 0.1889, 0.2357,\n",
       "        0.4518, 0.1489, 0.8073, 0.5409, 0.7992, 0.7677, 0.1147, 0.1884, 0.1580,\n",
       "        0.3393, 0.3173, 0.4194, 0.0163, 0.7111, 0.7837, 0.6585, 0.8177, 0.8756,\n",
       "        0.0064, 0.5755, 0.9638, 0.1376, 0.2774, 0.4737, 0.1890, 0.4058, 0.4261,\n",
       "        0.9455, 0.4686, 0.7711, 0.8661, 0.7228, 0.0652, 0.8748, 0.8297, 0.1416,\n",
       "        0.3217, 0.8403, 0.0139, 0.0618, 0.1611, 0.6558, 0.2958, 0.0541, 0.6938,\n",
       "        0.7529, 0.6873, 0.0716, 0.9869, 0.4623, 0.0241, 0.4247, 0.8266, 0.7303,\n",
       "        0.4947, 0.8525, 0.0438, 0.8469, 0.9963, 0.1960, 0.6072, 0.4194, 0.0779,\n",
       "        0.4956, 0.3324, 0.0729, 0.1357, 0.5109, 0.9635, 0.6790, 0.1673, 0.8449,\n",
       "        0.5410, 0.0114, 0.5237, 0.8210, 0.2060, 0.4770, 0.2509, 0.1057, 0.2159,\n",
       "        0.5502, 0.8232, 0.4071, 0.0503, 0.4957, 0.0651, 0.5294, 0.8707, 0.7134,\n",
       "        0.1942, 0.3897, 0.7002, 0.6356, 0.0303, 0.2085, 0.3232, 0.6837, 0.9468],\n",
       "       requires_grad=True)"
      ]
     },
     "execution_count": 9,
     "metadata": {},
     "output_type": "execute_result"
    }
   ],
   "source": [
    "# This is strictly to debug the reproducibility problem and is not part of the tutorial\n",
    "model.weights"
   ]
  },
  {
   "cell_type": "markdown",
   "id": "a897cf89",
   "metadata": {},
   "source": [
    "Finally, we proceed with training as usual (see previous tutorials for more details on this part)."
   ]
  },
  {
   "cell_type": "code",
   "execution_count": 10,
   "id": "9081225f",
   "metadata": {},
   "outputs": [],
   "source": [
    "def acc(y_hat, y):\n",
    "    return (torch.argmax(y_hat, dim=1) ==\n",
    "            torch.argmax(y, dim=1)).sum().item()/len(y)\n",
    "\n",
    "def loss(y_hat, y):\n",
    "    return torch.nn.functional.binary_cross_entropy(\n",
    "        y_hat, torch.tensor(y, dtype=y_hat.dtype)\n",
    "    )\n",
    "eval_metrics = {\"acc\": acc}"
   ]
  },
  {
   "cell_type": "code",
   "execution_count": 11,
   "id": "991d8f44",
   "metadata": {},
   "outputs": [],
   "source": [
    "from lambeq import Dataset\n",
    "\n",
    "train_dataset = Dataset(training_circuits,\n",
    "                        training_answers,\n",
    "                        batch_size=BATCH_SIZE, shuffle=False)\n",
    "\n",
    "val_dataset = Dataset(val_circuits, val_answers, shuffle=False)"
   ]
  },
  {
   "cell_type": "code",
   "execution_count": 12,
   "id": "ec1a4b8e",
   "metadata": {},
   "outputs": [
    {
     "data": {
      "text/plain": [
       "26"
      ]
     },
     "execution_count": 12,
     "metadata": {},
     "output_type": "execute_result"
    }
   ],
   "source": [
    "len(val_dataset)"
   ]
  },
  {
   "cell_type": "code",
   "execution_count": null,
   "id": "a340f1a1",
   "metadata": {},
   "outputs": [],
   "source": [
    "# Currently, we print more than we need to debug the reproducibility problem\n",
    "from lambeq import PytorchTrainer\n",
    "\n",
    "trainer = PytorchTrainer(\n",
    "        model=model,\n",
    "        loss_function=loss,\n",
    "        optimizer=torch.optim.Adam,\n",
    "        learning_rate=LEARNING_RATE,\n",
    "        epochs=EPOCHS,\n",
    "        evaluate_functions=eval_metrics,\n",
    "        evaluate_on_train=True,\n",
    "        use_tensorboard=False,\n",
    "        verbose='text', \n",
    "        seed=SEED\n",
    "    )\n",
    "\n",
    "trainer.fit(train_dataset, val_dataset)"
   ]
  },
  {
   "cell_type": "markdown",
   "id": "c91c8756",
   "metadata": {},
   "source": [
    "Now that the training has ended, the final part is to test and plot the graphs for the results of the training as shown below. "
   ]
  },
  {
   "cell_type": "code",
   "execution_count": null,
   "id": "2df2f3c7",
   "metadata": {},
   "outputs": [
    {
     "data": {
      "text/plain": [
       "Text(12.4, 0.75, 'early stopping')"
      ]
     },
     "execution_count": 14,
     "metadata": {},
     "output_type": "execute_result"
    },
    {
     "data": {
      "image/png": "[encoded data removed]",
      "text/plain": [
       "<Figure size 1000x600 with 4 Axes>"
      ]
     },
     "metadata": {},
     "output_type": "display_data"
    }
   ],
   "source": [
    "import matplotlib.pyplot as plt\n",
    "import numpy as np\n",
    "\n",
    "fig, ((ax_tl, ax_tr), (ax_bl, ax_br)) = plt.subplots(2, 2, sharex=True, sharey='row', figsize=(10, 6))\n",
    "ax_tl.set_title('Training set')\n",
    "ax_tr.set_title('Validation set')\n",
    "ax_bl.set_xlabel('Iterations')\n",
    "ax_br.set_xlabel('Iterations')\n",
    "ax_bl.set_ylabel('Accuracy')\n",
    "ax_tl.set_ylabel('Loss')\n",
    "\n",
    "colours = iter(plt.rcParams['axes.prop_cycle'].by_key()['color'])\n",
    "range_ = np.arange(1, trainer.epochs + 1)\n",
    "ax_tl.plot(range_, trainer.train_epoch_costs, color=next(colours))\n",
    "ax_bl.plot(range_, trainer.train_eval_results['acc'], color=next(colours))\n",
    "ax_tr.plot(range_, trainer.val_costs, color=next(colours))\n",
    "ax_br.plot(range_, trainer.val_eval_results['acc'], color=next(colours))\n",
    "\n",
    "# mark best model as circle\n",
    "best_epoch = np.argmax(trainer.val_eval_results['acc'])\n",
    "ax_tl.plot(best_epoch + 1, trainer.train_epoch_costs[best_epoch], 'o', color='black', fillstyle='none')\n",
    "ax_tr.plot(best_epoch + 1, trainer.val_costs[best_epoch], 'o', color='black', fillstyle='none')\n",
    "ax_bl.plot(best_epoch + 1, trainer.train_eval_results['acc'][best_epoch], 'o', color='black', fillstyle='none')\n",
    "ax_br.plot(best_epoch + 1, trainer.val_eval_results['acc'][best_epoch], 'o', color='black', fillstyle='none')\n",
    "\n",
    "ax_br.text(best_epoch + 1.4, trainer.val_eval_results['acc'][best_epoch], 'early stopping', va='center')"
   ]
  },
  {
   "cell_type": "markdown",
   "id": "4ad0b133",
   "metadata": {},
   "source": [
    "Finally, We select the best model (from the best epoch) and use it to get the accuracy on the test data. The best epoch is determined based on the validation accuracy, which is marked on the plot by a circle."
   ]
  },
  {
   "cell_type": "code",
   "execution_count": null,
   "id": "463a2d27",
   "metadata": {},
   "outputs": [
    {
     "name": "stdout",
     "output_type": "stream",
     "text": [
      "Test Accuracy: 0.5\n"
     ]
    }
   ],
   "source": [
    "model.load(trainer.log_dir + '/best_model.lt')\n",
    "test_acc = acc(model(test_circuits), torch.tensor(test_answers))\n",
    "print('Test Accuracy:', test_acc)"
   ]
  }
 ],
 "metadata": {
  "kernelspec": {
   "display_name": "tutorials_env",
   "language": "python",
   "name": "python3"
  },
  "language_info": {
   "codemirror_mode": {
    "name": "ipython",
    "version": 3
   },
   "file_extension": ".py",
   "mimetype": "text/x-python",
   "name": "python",
   "nbconvert_exporter": "python",
   "pygments_lexer": "ipython3",
   "version": "3.11.11"
  }
 },
 "nbformat": 4,
 "nbformat_minor": 5
}
