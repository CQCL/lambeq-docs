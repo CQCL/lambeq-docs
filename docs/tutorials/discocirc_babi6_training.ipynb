{
 "cells": [
  {
   "cell_type": "markdown",
   "id": "48aad21d",
   "metadata": {},
   "source": [
    "# Tutorial: BabI6 Training and Preprocessing in Python (Part II)\n",
    "\n",
    "In Part I of this tutorial, we learned how to create {term}`DisCoCirc` circuits for question asking for the babI6 dataset. In this part, we proceed to train the model with the circuits that we created."
   ]
  },
  {
   "cell_type": "code",
   "execution_count": 1,
   "id": "b67efc5e",
   "metadata": {},
   "outputs": [],
   "source": [
    "# Parameters determining the type of the data\n",
    "# SANDWICH functor flag\n",
    "SANDWICH = True\n",
    "\n",
    "# Updating the FFL Parameter\n",
    "FFL = False\n",
    "\n",
    "# Names of Resulting file paths for the Datasets\n",
    "TRAINING_DATASET_FILEPATH = 'tutorial_training_ffl' + str(FFL) + '_sandwich_' + str(SANDWICH) + '.pkl'\n",
    "VALIDATION_DATASET_FILEPATH = 'tutorial_validation_ffl' + str(FFL) + '_sandwich_' + str(SANDWICH) + '.pkl'\n",
    "TEST_DATASET_FILEPATH = 'tutorial_test_ffl' + str(FFL) + '_sandwich_' + str(SANDWICH) + '.pkl'\n",
    "\n",
    "BATCH_SIZE = 5\n",
    "EPOCHS = 30\n",
    "LEARNING_RATE = 0.005"
   ]
  },
  {
   "cell_type": "markdown",
   "id": "88228542",
   "metadata": {},
   "source": [
    "To guarantee reproducibility, we make sure to manually seed torch and random."
   ]
  },
  {
   "cell_type": "code",
   "execution_count": 2,
   "id": "52347a8c",
   "metadata": {},
   "outputs": [],
   "source": [
    "import torch\n",
    "import numpy as np\n",
    "import random\n",
    "\n",
    "def set_pytorch_seed(seed_value):\n",
    "    random.seed(seed_value)\n",
    "    np.random.seed(seed_value)\n",
    "    torch.manual_seed(seed_value)\n",
    "    torch.use_deterministic_algorithms(True)\n",
    "    if torch.cuda.is_available():\n",
    "        torch.cuda.manual_seed(seed_value)\n",
    "        torch.cuda.manual_seed_all(seed_value)\n",
    "    torch.backends.cudnn.deterministic =  True\n",
    "    torch.backends.cudnn.benchmark = False\n",
    "\n",
    "SEED = 2\n",
    "set_pytorch_seed(SEED)\n",
    "device = torch.device(\"cpu\")"
   ]
  },
  {
   "cell_type": "markdown",
   "id": "0f9091f4",
   "metadata": {},
   "source": [
    "## 8. Training the Circuits and Tests\n",
    "Now that we have the data ready, we proceed with the training as usual. However, we need to override the forward() method to deal with pairs of circuits instead of single circuits."
   ]
  },
  {
   "cell_type": "code",
   "execution_count": 3,
   "id": "c6023fa1",
   "metadata": {},
   "outputs": [
    {
     "name": "stderr",
     "output_type": "stream",
     "text": [
      "/Users/ouissal.moumou/actual_discocirc/lambeq-docs/tutorials_env/lib/python3.11/site-packages/tqdm/auto.py:21: TqdmWarning: IProgress not found. Please update jupyter and ipywidgets. See https://ipywidgets.readthedocs.io/en/stable/user_install.html\n",
      "  from .autonotebook import tqdm as notebook_tqdm\n"
     ]
    }
   ],
   "source": [
    "import pickle\n",
    "\n",
    "training_dict_babi6 = {}\n",
    "with open(TRAINING_DATASET_FILEPATH, 'rb') as file:\n",
    "    training_dict_babi6 = pickle.load(file)\n",
    "\n",
    "val_dict_babi6 = {}\n",
    "with open(VALIDATION_DATASET_FILEPATH, 'rb') as file:\n",
    "    val_dict_babi6 = pickle.load(file)\n",
    "\n",
    "test_dict_babi6 = {}\n",
    "with open(TEST_DATASET_FILEPATH, 'rb') as file:\n",
    "    test_dict_babi6 = pickle.load(file)"
   ]
  },
  {
   "cell_type": "code",
   "execution_count": null,
   "id": "1565fb9d",
   "metadata": {},
   "outputs": [],
   "source": [
    "training_circuits = []\n",
    "training_answers = []\n",
    "training_questions = []\n",
    "training_contexts = []\n",
    "\n",
    "for key, value in training_dict_babi6.items():\n",
    "    training_answers.append(value['answer'])\n",
    "    training_questions.append(value['question'])\n",
    "    training_contexts.append(value['text'])\n",
    "    training_circuits.append(value['quantum_circ_pair_aff_neg'])\n",
    "\n",
    "val_circuits = []\n",
    "val_answers = []\n",
    "val_questions = []\n",
    "val_contexts = []\n",
    "\n",
    "for key, value in val_dict_babi6.items():\n",
    "    val_answers.append(value['answer'])\n",
    "    val_questions.append(value['question'])\n",
    "    val_contexts.append(value['text'])\n",
    "    val_circuits.append(value['quantum_circ_pair_aff_neg'])\n",
    "    \n",
    "test_circuits = []\n",
    "test_answers = []\n",
    "test_questions = []\n",
    "test_contexts = []\n",
    "\n",
    "for key, value in test_dict_babi6.items():\n",
    "    test_answers.append(value['answer'])\n",
    "    test_questions.append(value['question'])\n",
    "    test_contexts.append(value['text'])\n",
    "    test_circuits.append(value['quantum_circ_pair_aff_neg'])"
   ]
  },
  {
   "cell_type": "markdown",
   "id": "99b9ac0c",
   "metadata": {},
   "source": [
    "The final output of the model is going to be a vector that we can interpret as a probability distribution over the possible answers (in this case [yes, no]). Therefore, We modify the yes and no answers and replace their representations with a one hot encoding over the possible assertions, i.e. by \"[1, 0]\"s and \"[0, 1]\"s respectively."
   ]
  },
  {
   "cell_type": "code",
   "execution_count": null,
   "id": "007b6bc8",
   "metadata": {},
   "outputs": [],
   "source": [
    "training_answers = [[0., 1.] if not answer else [1., 0.] for answer in training_answers]\n",
    "val_answers = [[0., 1.] if not answer else [1., 0.] for answer in val_answers]\n",
    "test_answers = [[0., 1.] if not answer else [1., 0.] for answer in test_answers]"
   ]
  },
  {
   "cell_type": "code",
   "execution_count": null,
   "id": "6857d72a",
   "metadata": {},
   "outputs": [
    {
     "data": {
      "text/plain": [
       "106"
      ]
     },
     "execution_count": 18,
     "metadata": {},
     "output_type": "execute_result"
    }
   ],
   "source": [
    "# this is strictly for debugging and should be removed once cleared\n",
    "len(training_answers)"
   ]
  },
  {
   "cell_type": "markdown",
   "id": "1d54c0c2",
   "metadata": {},
   "source": [
    "The following shows how we override the forward() method to accommodate having pairs of circuits."
   ]
  },
  {
   "cell_type": "code",
   "execution_count": null,
   "id": "67d6507a",
   "metadata": {},
   "outputs": [],
   "source": [
    "from lambeq import PytorchQuantumModel\n",
    "from lambeq.backend.quantum import Diagram\n",
    "import torch\n",
    "\n",
    "\n",
    "class PairCircuitModel(PytorchQuantumModel):\n",
    "    def forward(self, circ_pairs: list[tuple[Diagram, Diagram]]) -> torch.Tensor:\n",
    "        aff_circs, neg_circs = zip(*circ_pairs)\n",
    "        aff_out = abs(self.get_diagram_output(aff_circs))\n",
    "        neg_out = abs(self.get_diagram_output(neg_circs))\n",
    "\n",
    "        # implement a function that would merge aff_out and neg_out into an nx2 tensor\n",
    "        out_tensor = torch.stack((aff_out, neg_out), dim=1)\n",
    "        out_tensor = torch.softmax(out_tensor, dim=1)\n",
    "    \n",
    "        return out_tensor"
   ]
  },
  {
   "cell_type": "markdown",
   "id": "549f1f68",
   "metadata": {},
   "source": [
    "The way circuits are stored in our current example is as pairs. However, we need to pass all the circuits to the model for initialization. Therefore, we will create a new collection of circuits that includes all the circuits from the pairs of circuits that we originally have."
   ]
  },
  {
   "cell_type": "code",
   "execution_count": null,
   "id": "84d09be7",
   "metadata": {},
   "outputs": [],
   "source": [
    "all_circuits = [\n",
    "    circuit\n",
    "    for circuit_tuple in training_circuits + val_circuits + test_circuits\n",
    "    for circuit in circuit_tuple\n",
    "]\n",
    "\n",
    "backend_config = {'backend': 'default.qubit'}  \n",
    "model = PairCircuitModel.from_diagrams(all_circuits)\n",
    "model.initialise_weights()\n"
   ]
  },
  {
   "cell_type": "code",
   "execution_count": null,
   "id": "d1fcdbe8",
   "metadata": {},
   "outputs": [
    {
     "data": {
      "text/plain": [
       "Parameter containing:\n",
       "tensor([ 0.5949,  0.3811,  0.6405,  0.4579,  0.9659,  0.5814,  0.2229,  0.0017,\n",
       "         0.4109, -0.0242,  0.4091,  0.6002,  0.6264,  0.8179,  0.4966,  0.7230,\n",
       "         0.8393,  0.3294,  0.5204,  0.8359,  0.1531,  0.4993,  0.4438,  0.8782,\n",
       "         0.4600,  0.6706,  0.4874,  0.1780,  0.2014,  0.2673,  0.0301,  0.1303,\n",
       "         0.6108,  0.8112,  0.5419,  0.2220,  0.7135,  0.3322,  0.3780,  0.3438,\n",
       "         0.3505,  0.0662,  0.7175,  0.6219,  0.6385,  0.7993,  0.7480,  0.4351,\n",
       "         0.5673,  0.4263,  0.7952,  0.8457,  1.0175,  0.7833,  0.3625,  0.5299,\n",
       "         0.6474,  0.7390,  0.6094,  0.9780,  0.7536,  0.0834,  0.5477,  1.2316,\n",
       "         0.8532,  0.4774,  0.5899,  0.0178,  0.3342,  0.8407,  0.1243,  0.7978,\n",
       "         0.2434,  0.7182,  0.4862,  0.5881,  0.4625,  0.0214,  0.5486,  0.1148,\n",
       "         0.9926,  0.5442, -0.0956,  0.6477,  0.3853,  0.2976,  0.5014,  0.8863,\n",
       "         0.0393,  0.3295,  0.4438,  0.5494,  1.0617,  0.7210,  0.6808,  0.8502,\n",
       "         0.2203,  0.2778,  0.1463,  0.4623,  0.1034,  0.5321,  0.0470,  0.5342,\n",
       "         0.6654,  0.5990,  0.7424,  0.9225, -0.0297,  0.6015,  0.9842,  0.1169,\n",
       "         0.3636,  0.3986,  0.2004,  0.4137,  0.5094,  0.8895,  0.4809,  0.8469,\n",
       "         0.8673,  0.8114,  0.0293,  0.9203,  0.9126,  0.1477,  0.3250,  0.8430,\n",
       "         0.0233,  0.0569,  0.1515,  0.6123,  0.2085,  0.0900,  0.6929,  0.7440,\n",
       "         0.6629,  0.0290,  1.0456,  0.4284,  0.0580,  0.4547,  0.8499,  0.7113,\n",
       "         0.4423,  0.9017,  0.0698,  1.0073,  0.9721,  0.1326,  0.6397,  0.4474,\n",
       "        -0.0976,  0.4587,  0.3461, -0.0145,  0.1033,  0.6238,  0.9767,  0.7084,\n",
       "         0.2046,  0.8929,  0.4338,  0.2117,  0.4601,  0.8923,  0.1992,  0.4317,\n",
       "         0.1117, -0.0366,  0.1619,  0.5750,  0.7682,  0.4888,  0.1515,  0.5316,\n",
       "         0.0446,  0.5464,  0.6885,  0.6750,  0.1388,  0.4288,  0.6966,  0.6290,\n",
       "         0.0298,  0.2423,  0.2986,  0.9552,  0.9564], requires_grad=True)"
      ]
     },
     "execution_count": 16,
     "metadata": {},
     "output_type": "execute_result"
    }
   ],
   "source": [
    "# This is strictly to debug the reproducibility problem and is not part of the tutorial\n",
    "model.weights"
   ]
  },
  {
   "cell_type": "markdown",
   "id": "a897cf89",
   "metadata": {},
   "source": [
    "Finally, we proceed with training as usual (see previous tutorials for more details on this part)."
   ]
  },
  {
   "cell_type": "code",
   "execution_count": null,
   "id": "9081225f",
   "metadata": {},
   "outputs": [],
   "source": [
    "def acc(y_hat, y):\n",
    "    return (torch.argmax(y_hat, dim=1) ==\n",
    "            torch.argmax(y, dim=1)).sum().item()/len(y)\n",
    "\n",
    "def loss(y_hat, y):\n",
    "    return torch.nn.functional.binary_cross_entropy(\n",
    "        y_hat, torch.tensor(y, dtype=y_hat.dtype)\n",
    "    )\n",
    "eval_metrics = {\"acc\": acc}"
   ]
  },
  {
   "cell_type": "code",
   "execution_count": null,
   "id": "991d8f44",
   "metadata": {},
   "outputs": [],
   "source": [
    "from lambeq import Dataset\n",
    "\n",
    "train_dataset = Dataset(training_circuits,\n",
    "                        training_answers,\n",
    "                        batch_size=BATCH_SIZE)\n",
    "\n",
    "val_dataset = Dataset(val_circuits, val_answers, shuffle=False)"
   ]
  },
  {
   "cell_type": "code",
   "execution_count": null,
   "id": "ec1a4b8e",
   "metadata": {},
   "outputs": [
    {
     "data": {
      "text/plain": [
       "36"
      ]
     },
     "execution_count": 12,
     "metadata": {},
     "output_type": "execute_result"
    }
   ],
   "source": [
    "len(val_dataset)"
   ]
  },
  {
   "cell_type": "code",
   "execution_count": null,
   "id": "a340f1a1",
   "metadata": {},
   "outputs": [],
   "source": [
    "# Currently, we print more than we need to debug the reproducibility problem\n",
    "from lambeq import PytorchTrainer\n",
    "\n",
    "trainer = PytorchTrainer(\n",
    "        model=model,\n",
    "        loss_function=loss,\n",
    "        optimizer=torch.optim.Adam,\n",
    "        learning_rate=LEARNING_RATE,\n",
    "        epochs=EPOCHS,\n",
    "        evaluate_functions=eval_metrics,\n",
    "        evaluate_on_train=True,\n",
    "        use_tensorboard=False,\n",
    "        verbose='text', \n",
    "        seed=SEED\n",
    "    )\n",
    "\n",
    "trainer.fit(train_dataset, val_dataset)"
   ]
  },
  {
   "cell_type": "markdown",
   "id": "c91c8756",
   "metadata": {},
   "source": [
    "Now that the training has ended, the final part is to test and plot the graphs for the results of the training as shown below. "
   ]
  },
  {
   "cell_type": "code",
   "execution_count": null,
   "id": "2df2f3c7",
   "metadata": {},
   "outputs": [
    {
     "data": {
      "text/plain": [
       "Text(15.4, 0.7777777777777778, 'early stopping')"
      ]
     },
     "execution_count": 14,
     "metadata": {},
     "output_type": "execute_result"
    },
    {
     "data": {
      "image/png": "[encoded data removed]",
      "text/plain": [
       "<Figure size 1000x600 with 4 Axes>"
      ]
     },
     "metadata": {},
     "output_type": "display_data"
    }
   ],
   "source": [
    "import matplotlib.pyplot as plt\n",
    "import numpy as np\n",
    "\n",
    "fig, ((ax_tl, ax_tr), (ax_bl, ax_br)) = plt.subplots(2, 2, sharex=True, sharey='row', figsize=(10, 6))\n",
    "ax_tl.set_title('Training set')\n",
    "ax_tr.set_title('Validation set')\n",
    "ax_bl.set_xlabel('Iterations')\n",
    "ax_br.set_xlabel('Iterations')\n",
    "ax_bl.set_ylabel('Accuracy')\n",
    "ax_tl.set_ylabel('Loss')\n",
    "\n",
    "colours = iter(plt.rcParams['axes.prop_cycle'].by_key()['color'])\n",
    "range_ = np.arange(1, trainer.epochs + 1)\n",
    "ax_tl.plot(range_, trainer.train_epoch_costs, color=next(colours))\n",
    "ax_bl.plot(range_, trainer.train_eval_results['acc'], color=next(colours))\n",
    "ax_tr.plot(range_, trainer.val_costs, color=next(colours))\n",
    "ax_br.plot(range_, trainer.val_eval_results['acc'], color=next(colours))\n",
    "\n",
    "# mark best model as circle\n",
    "best_epoch = np.argmax(trainer.val_eval_results['acc'])\n",
    "ax_tl.plot(best_epoch + 1, trainer.train_epoch_costs[best_epoch], 'o', color='black', fillstyle='none')\n",
    "ax_tr.plot(best_epoch + 1, trainer.val_costs[best_epoch], 'o', color='black', fillstyle='none')\n",
    "ax_bl.plot(best_epoch + 1, trainer.train_eval_results['acc'][best_epoch], 'o', color='black', fillstyle='none')\n",
    "ax_br.plot(best_epoch + 1, trainer.val_eval_results['acc'][best_epoch], 'o', color='black', fillstyle='none')\n",
    "\n",
    "ax_br.text(best_epoch + 1.4, trainer.val_eval_results['acc'][best_epoch], 'early stopping', va='center')"
   ]
  },
  {
   "cell_type": "markdown",
   "id": "4ad0b133",
   "metadata": {},
   "source": [
    "Finally, We select the best model (from the best epoch) and use it to get the accuracy on the test data. The best epoch is determined based on the validation accuracy, which is marked on the plot by a circle."
   ]
  },
  {
   "cell_type": "code",
   "execution_count": null,
   "id": "463a2d27",
   "metadata": {},
   "outputs": [
    {
     "name": "stdout",
     "output_type": "stream",
     "text": [
      "Test Accuracy: 0.8333333333333334\n"
     ]
    }
   ],
   "source": [
    "model.load(trainer.log_dir + '/best_model.lt')\n",
    "test_acc = acc(model(test_circuits), torch.tensor(test_answers))\n",
    "print('Test Accuracy:', test_acc)"
   ]
  }
 ],
 "metadata": {
  "kernelspec": {
   "display_name": "tutorials_env",
   "language": "python",
   "name": "python3"
  },
  "language_info": {
   "codemirror_mode": {
    "name": "ipython",
    "version": 3
   },
   "file_extension": ".py",
   "mimetype": "text/x-python",
   "name": "python",
   "nbconvert_exporter": "python",
   "pygments_lexer": "ipython3",
   "version": "3.11.11"
  }
 },
 "nbformat": 4,
 "nbformat_minor": 5
}
