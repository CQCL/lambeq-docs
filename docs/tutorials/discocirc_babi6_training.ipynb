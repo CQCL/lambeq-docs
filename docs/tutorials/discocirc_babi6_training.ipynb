{
 "cells": [
  {
   "cell_type": "markdown",
   "id": "48aad21d",
   "metadata": {},
   "source": [
    "# Tutorial: BabI6 Training and Preprocessing in Python (Part II)\n",
    "\n",
    "In Part I of this tutorial, we learned how to create {term}`DisCoCirc` circuits for question asking for the babI6 dataset. In this part, we proceed to train the model with the circuits that we created."
   ]
  },
  {
   "cell_type": "code",
   "execution_count": 1,
   "id": "b67efc5e",
   "metadata": {},
   "outputs": [],
   "source": [
    "# Parameters determining the type of the data\n",
    "# SANDWICH functor flag\n",
    "SANDWICH = True\n",
    "\n",
    "# Updating the FFL Parameter\n",
    "FFL = False\n",
    "\n",
    "# Names of Resulting file paths for the Datasets\n",
    "TRAINING_DATASET_FILEPATH = 'tutorial_training_ffl' + str(FFL) + '_sandwich_' + str(SANDWICH) + '.pkl'\n",
    "VALIDATION_DATASET_FILEPATH = 'tutorial_validation_ffl' + str(FFL) + '_sandwich_' + str(SANDWICH) + '.pkl'\n",
    "TEST_DATASET_FILEPATH = 'tutorial_test_ffl' + str(FFL) + '_sandwich_' + str(SANDWICH) + '.pkl'\n",
    "\n",
    "BATCH_SIZE = 1\n",
    "EPOCHS = 30\n",
    "LEARNING_RATE = 0.005"
   ]
  },
  {
   "cell_type": "code",
   "execution_count": 2,
   "id": "52347a8c",
   "metadata": {},
   "outputs": [],
   "source": [
    "import torch\n",
    "import numpy as np\n",
    "import random\n",
    "\n",
    "def set_pytorch_seed(seed_value):\n",
    "    random.seed(seed_value)\n",
    "    np.random.seed(seed_value)\n",
    "    torch.manual_seed(seed_value)\n",
    "    torch.use_deterministic_algorithms(True)\n",
    "    if torch.cuda.is_available():\n",
    "        torch.cuda.manual_seed(seed_value)\n",
    "        torch.cuda.manual_seed_all(seed_value)\n",
    "    torch.backends.cudnn.deterministic =  True\n",
    "    torch.backends.cudnn.benchmark = False\n",
    "\n",
    "SEED = 2\n",
    "set_pytorch_seed(SEED)"
   ]
  },
  {
   "cell_type": "markdown",
   "id": "0f9091f4",
   "metadata": {},
   "source": [
    "## 8. Training the Circuits and Tests\n",
    "Now that we have the data ready, we proceed with the training as usual, except that, we have to deal with pairs of circuits instead of single circuits, which will be accommodated by overriding the forward() method in the model."
   ]
  },
  {
   "cell_type": "code",
   "execution_count": 3,
   "id": "c6023fa1",
   "metadata": {},
   "outputs": [
    {
     "name": "stderr",
     "output_type": "stream",
     "text": [
      "/Users/ouissal.moumou/actual_discocirc/lambeq-docs/tutorials_env/lib/python3.11/site-packages/tqdm/auto.py:21: TqdmWarning: IProgress not found. Please update jupyter and ipywidgets. See https://ipywidgets.readthedocs.io/en/stable/user_install.html\n",
      "  from .autonotebook import tqdm as notebook_tqdm\n"
     ]
    }
   ],
   "source": [
    "import pickle\n",
    "\n",
    "training_dict_babi6 = {}\n",
    "with open(TRAINING_DATASET_FILEPATH, 'rb') as file:\n",
    "    training_dict_babi6 = pickle.load(file)\n",
    "\n",
    "val_dict_babi6 = {}\n",
    "with open(VALIDATION_DATASET_FILEPATH, 'rb') as file:\n",
    "    val_dict_babi6 = pickle.load(file)\n",
    "\n",
    "test_dict_babi6 = {}\n",
    "with open(TEST_DATASET_FILEPATH, 'rb') as file:\n",
    "    test_dict_babi6 = pickle.load(file)"
   ]
  },
  {
   "cell_type": "code",
   "execution_count": 4,
   "id": "1565fb9d",
   "metadata": {},
   "outputs": [],
   "source": [
    "training_circuits = []\n",
    "training_answers = []\n",
    "training_questions = []\n",
    "training_contexts = []\n",
    "\n",
    "for key, value in training_dict_babi6.items():\n",
    "    training_answers.append(value['answer'])\n",
    "    training_questions.append(value['question'])\n",
    "    training_contexts.append(value['text'])\n",
    "    training_circuits.append(value['quantum_circ_pair_pos_neg'])\n",
    "\n",
    "val_circuits = []\n",
    "val_answers = []\n",
    "val_questions = []\n",
    "val_contexts = []\n",
    "\n",
    "for key, value in val_dict_babi6.items():\n",
    "    val_answers.append(value['answer'])\n",
    "    val_questions.append(value['question'])\n",
    "    val_contexts.append(value['text'])\n",
    "    val_circuits.append(value['quantum_circ_pair_pos_neg'])\n",
    "    \n",
    "test_circuits = []\n",
    "test_answers = []\n",
    "test_questions = []\n",
    "test_contexts = []\n",
    "\n",
    "for key, value in test_dict_babi6.items():\n",
    "    test_answers.append(value['answer'])\n",
    "    test_questions.append(value['question'])\n",
    "    test_contexts.append(value['text'])\n",
    "    test_circuits.append(value['quantum_circ_pair_pos_neg'])"
   ]
  },
  {
   "cell_type": "markdown",
   "id": "99b9ac0c",
   "metadata": {},
   "source": [
    "The final output of the model is going to be a vector that we can interpret as a probability distribution over the possible answers (in this case [yes, no]). Therefore, We modify the yes and no answers and replace their representations with a one hot encoding over the possible assertions, i.e. by \"[1, 0]\"s and \"[0, 1]\"s respectively."
   ]
  },
  {
   "cell_type": "code",
   "execution_count": 5,
   "id": "007b6bc8",
   "metadata": {},
   "outputs": [],
   "source": [
    "training_answers = [[0., 1.] if not answer else [1., 0.] for answer in training_answers]\n",
    "val_answers = [[0., 1.] if not answer else [1., 0.] for answer in val_answers]\n",
    "test_answers = [[0., 1.] if not answer else [1., 0.] for answer in test_answers]"
   ]
  },
  {
   "cell_type": "code",
   "execution_count": 6,
   "id": "6857d72a",
   "metadata": {},
   "outputs": [
    {
     "data": {
      "text/plain": [
       "106"
      ]
     },
     "execution_count": 6,
     "metadata": {},
     "output_type": "execute_result"
    }
   ],
   "source": [
    "len(training_answers)"
   ]
  },
  {
   "cell_type": "markdown",
   "id": "1d54c0c2",
   "metadata": {},
   "source": [
    "The following shows how we override the forward() method to accommodate having pairs of circuits."
   ]
  },
  {
   "cell_type": "code",
   "execution_count": 7,
   "id": "67d6507a",
   "metadata": {},
   "outputs": [],
   "source": [
    "from lambeq import PytorchQuantumModel\n",
    "from lambeq.backend.quantum import Diagram\n",
    "import torch\n",
    "\n",
    "\n",
    "class PairCircuitModel(PytorchQuantumModel):\n",
    "    def forward(self, circ_pairs: list[tuple[Diagram, Diagram]]) -> torch.Tensor:\n",
    "        pos_circs, neg_circs = zip(*circ_pairs)\n",
    "        pos_out = abs(self.get_diagram_output(pos_circs))\n",
    "        neg_out = abs(self.get_diagram_output(neg_circs))\n",
    "\n",
    "        # implement a function that would merge pos_out and neg_out into an nx2 tensor\n",
    "        out_tensor = torch.stack((pos_out, neg_out), dim=1)\n",
    "        out_tensor = torch.softmax(out_tensor, dim=1)\n",
    "    \n",
    "        return out_tensor"
   ]
  },
  {
   "cell_type": "markdown",
   "id": "549f1f68",
   "metadata": {},
   "source": [
    "The way circuits are stored in our current example is as pairs. However, when initializing circuits, one has to simply pass all the circuits to be initilised to the model (as seen in later cells). Therefore, for the initialisation step, we will create a new collection of circuits that includes all the circuits from the pairs of circuits that we originally have."
   ]
  },
  {
   "cell_type": "code",
   "execution_count": 8,
   "id": "84d09be7",
   "metadata": {},
   "outputs": [],
   "source": [
    "all_circuits = [\n",
    "    circuit\n",
    "    for circuit_tuple in training_circuits + val_circuits + test_circuits\n",
    "    for circuit in circuit_tuple\n",
    "]\n",
    "\n",
    "backend_config = {'backend': 'default.qubit'}  \n",
    "model = PairCircuitModel.from_diagrams(all_circuits)\n",
    "model.initialise_weights()\n"
   ]
  },
  {
   "cell_type": "code",
   "execution_count": 9,
   "id": "d1fcdbe8",
   "metadata": {},
   "outputs": [
    {
     "data": {
      "text/plain": [
       "Parameter containing:\n",
       "tensor([0.6147, 0.3810, 0.6371, 0.4745, 0.7136, 0.6190, 0.4425, 0.0958, 0.6142,\n",
       "        0.0573, 0.5657, 0.5332, 0.3901, 0.9088, 0.5334, 0.7073, 0.7116, 0.2050,\n",
       "        0.3078, 0.9809, 0.0103, 0.4660, 0.4604, 0.8547, 0.4525, 0.6317, 0.4760,\n",
       "        0.2200, 0.2166, 0.2571, 0.0458, 0.1755, 0.6177, 0.8291, 0.5246, 0.2708,\n",
       "        0.7197, 0.3081, 0.3892, 0.2259, 0.3430, 0.0367, 0.7133, 0.6944, 0.5993,\n",
       "        0.7455, 0.7119, 0.5221, 0.5530, 0.5382, 0.7668, 0.8359, 0.8591, 0.7898,\n",
       "        0.3781, 0.4777, 0.3984, 0.7909, 0.5555, 0.9628, 0.7536, 0.0727, 0.6463,\n",
       "        0.9804, 0.9441, 0.4921, 0.6659, 0.0310, 0.3406, 0.7438, 0.0445, 0.9356,\n",
       "        0.1712, 0.6581, 0.4811, 0.5881, 0.5484, 0.0326, 0.3926, 0.1839, 0.9251,\n",
       "        0.4386, 0.0021, 0.6211, 0.7171, 0.2762, 0.4531, 0.7162, 0.1889, 0.2357,\n",
       "        0.4518, 0.1489, 0.8073, 0.5409, 0.7992, 0.7677, 0.1147, 0.1884, 0.1580,\n",
       "        0.3393, 0.3173, 0.4194, 0.0163, 0.7111, 0.7837, 0.6585, 0.8177, 0.8756,\n",
       "        0.0064, 0.5755, 0.9638, 0.1376, 0.2774, 0.4737, 0.1890, 0.4058, 0.4261,\n",
       "        0.9455, 0.4686, 0.7711, 0.8661, 0.7228, 0.0652, 0.8748, 0.8297, 0.1416,\n",
       "        0.3217, 0.8403, 0.0139, 0.0618, 0.1611, 0.6558, 0.2958, 0.0541, 0.6938,\n",
       "        0.7529, 0.6873, 0.0716, 0.9869, 0.4623, 0.0241, 0.4247, 0.8266, 0.7303,\n",
       "        0.4947, 0.8525, 0.0438, 0.8469, 0.9963, 0.1960, 0.6072, 0.4194, 0.0779,\n",
       "        0.4956, 0.3324, 0.0729, 0.1357, 0.5109, 0.9635, 0.6790, 0.1673, 0.8449,\n",
       "        0.5410, 0.0114, 0.5237, 0.8210, 0.2060, 0.4770, 0.2509, 0.1057, 0.2159,\n",
       "        0.5502, 0.8232, 0.4071, 0.0503, 0.4957, 0.0651, 0.5294, 0.8707, 0.7134,\n",
       "        0.1942, 0.3897, 0.7002, 0.6356, 0.0303, 0.2085, 0.3232, 0.6837, 0.9468],\n",
       "       requires_grad=True)"
      ]
     },
     "execution_count": 9,
     "metadata": {},
     "output_type": "execute_result"
    }
   ],
   "source": [
    "model.weights"
   ]
  },
  {
   "cell_type": "markdown",
   "id": "a897cf89",
   "metadata": {},
   "source": [
    "Finally, we proceed with training as usual (see previous tutorials for more details on this part)."
   ]
  },
  {
   "cell_type": "code",
   "execution_count": 10,
   "id": "9081225f",
   "metadata": {},
   "outputs": [],
   "source": [
    "def acc(y_hat, y):\n",
    "    return (torch.argmax(y_hat, dim=1) ==\n",
    "            torch.argmax(y, dim=1)).sum().item()/len(y)\n",
    "\n",
    "def loss(y_hat, y):\n",
    "    return torch.nn.functional.binary_cross_entropy(\n",
    "        y_hat, torch.tensor(y, dtype=y_hat.dtype)\n",
    "    )\n",
    "eval_metrics = {\"acc\": acc}"
   ]
  },
  {
   "cell_type": "code",
   "execution_count": 11,
   "id": "991d8f44",
   "metadata": {},
   "outputs": [],
   "source": [
    "from lambeq import Dataset\n",
    "\n",
    "train_dataset = Dataset(training_circuits,\n",
    "                        training_answers,\n",
    "                        batch_size=BATCH_SIZE)\n",
    "\n",
    "val_dataset = Dataset(val_circuits, val_answers, shuffle=False)"
   ]
  },
  {
   "cell_type": "code",
   "execution_count": 12,
   "id": "ec1a4b8e",
   "metadata": {},
   "outputs": [
    {
     "data": {
      "text/plain": [
       "36"
      ]
     },
     "execution_count": 12,
     "metadata": {},
     "output_type": "execute_result"
    }
   ],
   "source": [
    "len(val_dataset)"
   ]
  },
  {
   "cell_type": "code",
   "execution_count": 13,
   "id": "a340f1a1",
   "metadata": {},
   "outputs": [
    {
     "name": "stderr",
     "output_type": "stream",
     "text": [
      "/var/folders/xl/dhbq46vx3fjd140_39vc28hh0000gp/T/ipykernel_64311/976416833.py:7: UserWarning: To copy construct from a tensor, it is recommended to use sourceTensor.detach().clone() or sourceTensor.detach().clone().requires_grad_(True), rather than torch.tensor(sourceTensor).\n",
      "  y_hat, torch.tensor(y, dtype=y_hat.dtype)\n",
      "Epoch 1:   \n",
      "Parameter containing:\n",
      "tensor([ 0.6147,  0.3804,  0.6371,  0.5387,  0.7138,  0.5793,  0.3368,  0.1678,\n",
      "         0.5641,  0.0060,  0.5196,  0.5666,  0.4164,  0.8748,  0.5671,  0.7236,\n",
      "         0.7954,  0.1709,  0.3492,  0.9414,  0.0565,  0.4831,  0.4540,  0.8268,\n",
      "         0.4544,  0.6326,  0.4776,  0.2168,  0.2367,  0.2627,  0.0456,  0.1882,\n",
      "         0.6033,  0.8128,  0.5220,  0.2712,  0.7643,  0.3375,  0.4264,  0.2704,\n",
      "         0.3791,  0.0748,  0.7502,  0.7347,  0.5615,  0.7060,  0.7489,  0.4852,\n",
      "         0.5166,  0.5745,  0.8038,  0.7762,  0.8676,  0.7350,  0.3886,  0.4317,\n",
      "         0.4519,  0.8204,  0.5504,  0.9734,  0.7536,  0.0112,  0.6087,  1.0122,\n",
      "         0.9229,  0.5204,  0.5902,  0.0731,  0.3772,  0.8039,  0.1148,  0.8749,\n",
      "         0.2429,  0.6554,  0.4803,  0.5881,  0.5671, -0.0014,  0.4785,  0.1577,\n",
      "         1.0016,  0.5167,  0.0019,  0.6135,  0.6518,  0.3169,  0.4640,  0.7256,\n",
      "         0.1295,  0.2098,  0.4424,  0.2337,  0.8889,  0.6611,  0.8304,  0.8576,\n",
      "         0.1678,  0.1341,  0.2133,  0.3792,  0.3282,  0.5288,  0.0544,  0.6261,\n",
      "         0.7017,  0.6301,  0.7894,  0.9179, -0.0291,  0.6158,  0.9187,  0.1787,\n",
      "         0.3097,  0.5170,  0.2319,  0.3680,  0.4684,  0.9048,  0.4243,  0.8264,\n",
      "         0.8229,  0.7293,  0.0743,  0.8801,  0.8883,  0.1251,  0.3389,  0.8404,\n",
      "         0.0362,  0.0730,  0.1372,  0.6773,  0.2876,  0.0586,  0.6244,  0.7207,\n",
      "         0.6910,  0.1012,  1.0470,  0.4741,  0.1049,  0.3932,  0.8324,  0.7044,\n",
      "         0.5107,  0.8816,  0.0219,  0.9331,  0.9524,  0.2017,  0.6269,  0.4304,\n",
      "        -0.0109,  0.5273,  0.3347, -0.0088,  0.1571,  0.4463,  0.9001,  0.7011,\n",
      "         0.0975,  0.8933,  0.5830,  0.0397,  0.5279,  0.7557,  0.2283,  0.4998,\n",
      "         0.2316,  0.0790,  0.2153,  0.5070,  0.7785,  0.4436,  0.0098,  0.5386,\n",
      "         0.0249,  0.5706,  0.8244,  0.6683,  0.2251,  0.3529,  0.6555,  0.6639,\n",
      "         0.0798,  0.1678,  0.3220,  0.6761,  0.9564], requires_grad=True)\n",
      "train/loss: 0.6351   valid/loss: 0.6657   train/time: 43.67s   valid/time: 7.50s   train/acc: 0.5566   valid/acc: 0.6389\n",
      "Epoch 2:   \n",
      "Parameter containing:\n",
      "tensor([ 0.6146,  0.3741,  0.6202,  0.6021,  0.7498,  0.5792,  0.2328,  0.2173,\n",
      "         0.5156,  0.0439,  0.4860,  0.5220,  0.4075,  0.8751,  0.5583,  0.6631,\n",
      "         0.8593,  0.1596,  0.3859,  0.9728,  0.0856,  0.4786,  0.4590,  0.8203,\n",
      "         0.4591,  0.6304,  0.4752,  0.2114,  0.2543,  0.2605,  0.0435,  0.1753,\n",
      "         0.5953,  0.8299,  0.5262,  0.2733,  0.8015,  0.4013,  0.3720,  0.3305,\n",
      "         0.4295,  0.1044,  0.8131,  0.7917,  0.6249,  0.6664,  0.6924,  0.4242,\n",
      "         0.4594,  0.5591,  0.7576,  0.8126,  0.9090,  0.7592,  0.4214,  0.4458,\n",
      "         0.5103,  0.8088,  0.5404,  0.9502,  0.7536,  0.0605,  0.6117,  1.0274,\n",
      "         0.8899,  0.5078,  0.6106,  0.0717,  0.3723,  0.8256,  0.1215,  0.8754,\n",
      "         0.2457,  0.6431,  0.4918,  0.5881,  0.5385,  0.0120,  0.4843,  0.1761,\n",
      "         1.0048,  0.5051, -0.0196,  0.5977,  0.6503,  0.3421,  0.4292,  0.7227,\n",
      "         0.1231,  0.2292,  0.4695,  0.2690,  0.9605,  0.6726,  0.7828,  0.8520,\n",
      "         0.2572,  0.1460,  0.2967,  0.3835,  0.3123,  0.5680,  0.1105,  0.5760,\n",
      "         0.6349,  0.6860,  0.7309,  0.9076, -0.0860,  0.5902,  0.8631,  0.1251,\n",
      "         0.3688,  0.5744,  0.2558,  0.4163,  0.5243,  0.9624,  0.3663,  0.7693,\n",
      "         0.8270,  0.7517,  0.0603,  0.9423,  0.9021,  0.0827,  0.3020,  0.9109,\n",
      "        -0.0651,  0.0908,  0.2239,  0.7223,  0.3630,  0.0948,  0.7131,  0.8219,\n",
      "         0.7761,  0.1308,  1.0263,  0.4651,  0.0895,  0.3905,  0.8008,  0.7062,\n",
      "         0.4814,  0.8719,  0.0066,  0.9634,  0.9810,  0.1927,  0.6152,  0.4262,\n",
      "        -0.0360,  0.4746,  0.3037,  0.0721,  0.0464,  0.3956,  0.8359,  0.5937,\n",
      "         0.0492,  0.8449,  0.6407,  0.0433,  0.5490,  0.7031,  0.2183,  0.3912,\n",
      "         0.2337,  0.0920,  0.2068,  0.5521,  0.7190,  0.3862, -0.0484,  0.4873,\n",
      "        -0.0230,  0.5161,  0.7655,  0.6472,  0.1698,  0.4078,  0.5972,  0.7234,\n",
      "         0.0221,  0.1632,  0.3153,  0.7065,  0.9797], requires_grad=True)\n",
      "train/loss: 0.4759   valid/loss: 0.6314   train/time: 11.15s   valid/time: 2.59s   train/acc: 0.7453   valid/acc: 0.6944\n",
      "Epoch 3:   \n",
      "Parameter containing:\n",
      "tensor([ 0.5967,  0.3764,  0.6202,  0.5766,  0.8125,  0.6186,  0.1388,  0.2446,\n",
      "         0.5180,  0.0323,  0.4714,  0.5337,  0.3960,  0.8368,  0.5961,  0.7274,\n",
      "         0.8135,  0.2257,  0.3980,  0.9828,  0.0955,  0.4752,  0.4579,  0.8585,\n",
      "         0.4458,  0.6198,  0.4804,  0.2145,  0.2664,  0.2783,  0.0538,  0.1588,\n",
      "         0.5967,  0.8369,  0.5281,  0.2734,  0.7875,  0.3558,  0.4167,  0.2990,\n",
      "         0.4167,  0.0589,  0.7863,  0.7715,  0.5679,  0.6837,  0.7392,  0.4530,\n",
      "         0.4915,  0.5452,  0.6845,  0.8072,  0.9452,  0.7493,  0.4082,  0.4235,\n",
      "         0.4639,  0.8338,  0.5169,  0.9685,  0.7536,  0.0463,  0.6001,  1.0466,\n",
      "         0.9156,  0.5155,  0.6592,  0.0807,  0.3954,  0.8214,  0.0972,  0.8590,\n",
      "         0.2197,  0.6492,  0.4915,  0.5881,  0.5252,  0.0137,  0.4919,  0.1848,\n",
      "         0.9792,  0.4909, -0.0350,  0.5950,  0.6637,  0.4392,  0.3449,  0.6693,\n",
      "         0.1429,  0.2068,  0.4527,  0.2915,  0.9845,  0.6638,  0.8183,  0.8613,\n",
      "         0.2682,  0.1181,  0.3018,  0.3593,  0.3034,  0.5815,  0.1134,  0.4869,\n",
      "         0.6190,  0.6314,  0.7555,  0.8428, -0.1334,  0.6436,  0.8743,  0.1256,\n",
      "         0.3229,  0.6189,  0.1923,  0.4433,  0.4901,  1.0072,  0.3825,  0.7166,\n",
      "         0.8293,  0.7752,  0.0352,  0.9980,  0.8739,  0.0855,  0.2682,  0.9168,\n",
      "        -0.0116,  0.0678,  0.2140,  0.7007,  0.3155,  0.0615,  0.6475,  0.8092,\n",
      "         0.7599,  0.1281,  0.9930,  0.4773,  0.0365,  0.3864,  0.7918,  0.7173,\n",
      "         0.4559,  0.8391,  0.0276,  0.9621,  1.0132,  0.2076,  0.5930,  0.4330,\n",
      "        -0.0264,  0.5012,  0.2817,  0.0616,  0.0200,  0.4412,  0.8339,  0.5788,\n",
      "         0.0955,  0.7837,  0.6527,  0.0131,  0.5259,  0.7450,  0.1921,  0.3566,\n",
      "         0.2012,  0.0893,  0.1762,  0.6074,  0.7061,  0.4535,  0.0031,  0.4871,\n",
      "         0.0297,  0.5528,  0.7385,  0.5977,  0.2360,  0.3999,  0.6386,  0.6623,\n",
      "         0.0895,  0.2204,  0.3521,  0.7181,  0.9772], requires_grad=True)\n",
      "train/loss: 0.4596   valid/loss: 0.6011   train/time: 11.46s   valid/time: 2.29s   train/acc: 0.7830   valid/acc: 0.7222\n",
      "Epoch 4:   \n",
      "Parameter containing:\n",
      "tensor([ 0.5968,  0.3866,  0.6203,  0.5969,  0.8371,  0.6218,  0.0578,  0.2881,\n",
      "         0.4611,  0.0418,  0.4020,  0.5304,  0.4193,  0.8563,  0.5622,  0.6991,\n",
      "         0.8237,  0.1929,  0.3516,  0.9878,  0.0460,  0.4763,  0.4643,  0.8675,\n",
      "         0.4452,  0.6268,  0.4868,  0.2174,  0.2759,  0.2804,  0.0645,  0.1423,\n",
      "         0.5886,  0.8449,  0.5270,  0.2677,  0.7951,  0.3508,  0.4122,  0.2914,\n",
      "         0.4146,  0.0575,  0.7784,  0.7617,  0.5809,  0.6894,  0.7307,  0.4586,\n",
      "         0.4975,  0.5427,  0.6921,  0.7851,  1.0047,  0.7201,  0.4063,  0.4494,\n",
      "         0.4969,  0.8073,  0.5070,  0.9734,  0.7536,  0.0482,  0.5981,  1.0480,\n",
      "         0.9093,  0.4841,  0.6839,  0.0921,  0.3653,  0.8387,  0.1166,  0.8132,\n",
      "         0.2409,  0.6715,  0.4961,  0.5881,  0.5591,  0.0168,  0.5510,  0.1489,\n",
      "         0.9981,  0.5117, -0.0091,  0.6198,  0.6658,  0.4191,  0.3423,  0.6987,\n",
      "         0.2275,  0.2525,  0.4413,  0.3156,  0.9983,  0.7309,  0.8333,  0.9178,\n",
      "         0.2199,  0.0879,  0.2540,  0.2838,  0.3121,  0.6933,  0.1230,  0.4767,\n",
      "         0.6109,  0.6374,  0.7865,  0.8294, -0.1681,  0.6661,  0.8906,  0.1213,\n",
      "         0.2876,  0.6122,  0.1586,  0.4477,  0.4775,  1.0442,  0.4079,  0.6820,\n",
      "         0.8156,  0.7429,  0.0513,  1.0240,  0.8468,  0.1331,  0.2814,  0.9388,\n",
      "        -0.0067,  0.0621,  0.2260,  0.6614,  0.3253,  0.0800,  0.6713,  0.8320,\n",
      "         0.7528,  0.1398,  1.0393,  0.4568,  0.0823,  0.3889,  0.8158,  0.7234,\n",
      "         0.4758,  0.8708, -0.0151,  0.9806,  0.9927,  0.1893,  0.6200,  0.3984,\n",
      "        -0.0467,  0.5564,  0.2925,  0.0082,  0.0029,  0.4377,  0.8383,  0.5520,\n",
      "         0.0667,  0.7600,  0.6901, -0.0502,  0.5395,  0.7299,  0.1788,  0.3371,\n",
      "         0.1755,  0.0651,  0.1592,  0.6414,  0.7147,  0.4891,  0.0390,  0.5126,\n",
      "         0.0455,  0.5815,  0.7531,  0.5587,  0.2407,  0.3982,  0.6611,  0.6206,\n",
      "         0.1230,  0.2601,  0.4078,  0.7017,  0.9718], requires_grad=True)\n",
      "train/loss: 0.6262   valid/loss: 0.6061   train/time: 10.89s   valid/time: 2.56s   train/acc: 0.8774   valid/acc: 0.6944\n",
      "Epoch 5:   \n",
      "Parameter containing:\n",
      "tensor([ 0.6062,  0.3813,  0.6203,  0.6023,  0.8357,  0.6473,  0.0497,  0.2837,\n",
      "         0.4713,  0.0457,  0.4255,  0.5127,  0.4297,  0.8945,  0.5270,  0.7615,\n",
      "         0.8193,  0.2527,  0.3971,  0.9919,  0.0883,  0.4911,  0.4365,  0.8605,\n",
      "         0.4314,  0.6336,  0.4923,  0.2226,  0.2436,  0.2633,  0.0543,  0.1572,\n",
      "         0.6044,  0.8566,  0.5323,  0.2862,  0.7775,  0.3263,  0.4203,  0.2600,\n",
      "         0.3618,  0.0063,  0.7913,  0.6959,  0.5508,  0.6708,  0.6541,  0.4874,\n",
      "         0.5561,  0.4703,  0.6808,  0.7716,  1.0141,  0.7054,  0.4092,  0.4330,\n",
      "         0.5258,  0.8219,  0.5163,  0.9763,  0.7536,  0.0131,  0.5885,  1.0648,\n",
      "         0.9124,  0.4957,  0.6809,  0.1063,  0.3793,  0.8199,  0.0932,  0.8216,\n",
      "         0.2132,  0.6601,  0.4964,  0.5881,  0.5479,  0.0117,  0.5443,  0.1673,\n",
      "         0.9729,  0.5024, -0.0170,  0.6306,  0.6636,  0.4051,  0.3479,  0.7382,\n",
      "         0.2373,  0.2878,  0.4696,  0.3052,  0.9796,  0.7167,  0.8638,  0.9119,\n",
      "         0.1756,  0.0766,  0.1957,  0.2746,  0.3012,  0.6709,  0.1323,  0.4903,\n",
      "         0.5965,  0.7002,  0.8054,  0.8197, -0.2569,  0.6434,  0.9322,  0.0751,\n",
      "         0.2512,  0.6059,  0.1521,  0.4177,  0.5082,  1.1003,  0.4435,  0.6204,\n",
      "         0.8257,  0.7102,  0.0759,  0.9952,  0.9182,  0.0812,  0.2786,  0.9478,\n",
      "         0.0329,  0.0656,  0.2988,  0.7527,  0.3409,  0.1125,  0.6040,  0.8538,\n",
      "         0.7711,  0.1482,  1.0263,  0.4570,  0.0686,  0.3873,  0.8296,  0.7063,\n",
      "         0.4921,  0.8653, -0.0058,  0.9902,  0.9751,  0.1907,  0.6164,  0.4164,\n",
      "        -0.0617,  0.5378,  0.2333,  0.0353,  0.0643,  0.4954,  0.8109,  0.5874,\n",
      "         0.1048,  0.7940,  0.6334, -0.0740,  0.5054,  0.7819,  0.1935,  0.3700,\n",
      "         0.1744,  0.0742,  0.1649,  0.7148,  0.7342,  0.5623,  0.0836,  0.5990,\n",
      "         0.0709,  0.6292,  0.8155,  0.5033,  0.1982,  0.3905,  0.6889,  0.5282,\n",
      "         0.1492,  0.3048,  0.3677,  0.6838,  0.9731], requires_grad=True)\n",
      "train/loss: 0.3813   valid/loss: 0.6006   train/time: 11.26s   valid/time: 2.44s   train/acc: 0.8868   valid/acc: 0.6944\n"
     ]
    },
    {
     "ename": "KeyboardInterrupt",
     "evalue": "",
     "output_type": "error",
     "traceback": [
      "\u001b[31m---------------------------------------------------------------------------\u001b[39m",
      "\u001b[31mKeyboardInterrupt\u001b[39m                         Traceback (most recent call last)",
      "\u001b[36mCell\u001b[39m\u001b[36m \u001b[39m\u001b[32mIn[13]\u001b[39m\u001b[32m, line 16\u001b[39m\n\u001b[32m      1\u001b[39m \u001b[38;5;28;01mfrom\u001b[39;00m\u001b[38;5;250m \u001b[39m\u001b[34;01mlambeq\u001b[39;00m\u001b[38;5;250m \u001b[39m\u001b[38;5;28;01mimport\u001b[39;00m PytorchTrainer\n\u001b[32m      3\u001b[39m trainer = PytorchTrainer(\n\u001b[32m      4\u001b[39m         model=model,\n\u001b[32m      5\u001b[39m         loss_function=loss,\n\u001b[32m   (...)\u001b[39m\u001b[32m     13\u001b[39m         seed=SEED\n\u001b[32m     14\u001b[39m     )\n\u001b[32m---> \u001b[39m\u001b[32m16\u001b[39m \u001b[43mtrainer\u001b[49m\u001b[43m.\u001b[49m\u001b[43mfit\u001b[49m\u001b[43m(\u001b[49m\u001b[43mtrain_dataset\u001b[49m\u001b[43m,\u001b[49m\u001b[43m \u001b[49m\u001b[43mval_dataset\u001b[49m\u001b[43m)\u001b[49m\n",
      "\u001b[36mFile \u001b[39m\u001b[32m~/actual_discocirc/lambeq-docs/tutorials_env/lib/python3.11/site-packages/lambeq/training/trainer.py:588\u001b[39m, in \u001b[36mTrainer.fit\u001b[39m\u001b[34m(self, train_dataset, val_dataset, log_interval, eval_interval, eval_mode, early_stopping_criterion, early_stopping_interval, minimize_criterion, full_timing_report)\u001b[39m\n\u001b[32m    580\u001b[39m \u001b[38;5;28;01mfor\u001b[39;00m batch \u001b[38;5;129;01min\u001b[39;00m tqdm(train_dataset,\n\u001b[32m    581\u001b[39m                   desc=\u001b[33m'\u001b[39m\u001b[33mBatch\u001b[39m\u001b[33m'\u001b[39m,\n\u001b[32m    582\u001b[39m                   total=train_dataset.batches_per_epoch,\n\u001b[32m    583\u001b[39m                   disable=disable_tqdm,\n\u001b[32m    584\u001b[39m                   leave=\u001b[38;5;28;01mFalse\u001b[39;00m,\n\u001b[32m    585\u001b[39m                   position=\u001b[32m2\u001b[39m):\n\u001b[32m    587\u001b[39m     step += \u001b[32m1\u001b[39m\n\u001b[32m--> \u001b[39m\u001b[32m588\u001b[39m     t_loss = \u001b[38;5;28;43mself\u001b[39;49m\u001b[43m.\u001b[49m\u001b[43m_step_and_eval\u001b[49m\u001b[43m(\u001b[49m\n\u001b[32m    589\u001b[39m \u001b[43m        \u001b[49m\u001b[43mbatch\u001b[49m\u001b[43m,\u001b[49m\n\u001b[32m    590\u001b[39m \u001b[43m        \u001b[49m\u001b[38;5;28;43mself\u001b[39;49m\u001b[43m.\u001b[49m\u001b[43mtraining_step\u001b[49m\u001b[43m,\u001b[49m\n\u001b[32m    591\u001b[39m \u001b[43m        \u001b[49m\u001b[43mtrain_losses\u001b[49m\u001b[43m,\u001b[49m\n\u001b[32m    592\u001b[39m \u001b[43m        \u001b[49m\u001b[38;5;28;43mself\u001b[39;49m\u001b[43m.\u001b[49m\u001b[43m_train_eval_running\u001b[49m\u001b[43m,\u001b[49m\n\u001b[32m    593\u001b[39m \u001b[43m        \u001b[49m\u001b[38;5;28;43mself\u001b[39;49m\u001b[43m.\u001b[49m\u001b[43mtrain_durations\u001b[49m\u001b[43m,\u001b[49m\n\u001b[32m    594\u001b[39m \u001b[43m        \u001b[49m\u001b[38;5;28;43mself\u001b[39;49m\u001b[43m.\u001b[49m\u001b[43mevaluate_on_train\u001b[49m\n\u001b[32m    595\u001b[39m \u001b[43m    \u001b[49m\u001b[43m)\u001b[49m\n\u001b[32m    597\u001b[39m     \u001b[38;5;28mself\u001b[39m._to_tensorboard(\u001b[33m'\u001b[39m\u001b[33mtrain/step_loss\u001b[39m\u001b[33m'\u001b[39m, t_loss, step)\n\u001b[32m    598\u001b[39m     status_bar.set_description(\n\u001b[32m    599\u001b[39m         \u001b[38;5;28mself\u001b[39m._generate_stat_report(\n\u001b[32m    600\u001b[39m             train_loss=t_loss,\n\u001b[32m   (...)\u001b[39m\u001b[32m    607\u001b[39m         )\n\u001b[32m    608\u001b[39m     )\n",
      "\u001b[36mFile \u001b[39m\u001b[32m~/actual_discocirc/lambeq-docs/tutorials_env/lib/python3.11/site-packages/lambeq/training/trainer.py:390\u001b[39m, in \u001b[36mTrainer._step_and_eval\u001b[39m\u001b[34m(self, batch, step_func, losses, eval_results, step_durations, evaluate)\u001b[39m\n\u001b[32m    388\u001b[39m step_start = time.time()\n\u001b[32m    389\u001b[39m batch_size = \u001b[38;5;28mlen\u001b[39m(batch[\u001b[32m0\u001b[39m])\n\u001b[32m--> \u001b[39m\u001b[32m390\u001b[39m y_hat, loss = \u001b[43mstep_func\u001b[49m\u001b[43m(\u001b[49m\u001b[43mbatch\u001b[49m\u001b[43m)\u001b[49m\n\u001b[32m    391\u001b[39m losses.append((batch_size, loss))\n\u001b[32m    393\u001b[39m \u001b[38;5;28;01mif\u001b[39;00m \u001b[38;5;28mself\u001b[39m.evaluate_functions \u001b[38;5;129;01mis\u001b[39;00m \u001b[38;5;129;01mnot\u001b[39;00m \u001b[38;5;28;01mNone\u001b[39;00m \u001b[38;5;129;01mand\u001b[39;00m evaluate:\n",
      "\u001b[36mFile \u001b[39m\u001b[32m~/actual_discocirc/lambeq-docs/tutorials_env/lib/python3.11/site-packages/lambeq/training/pytorch_trainer.py:197\u001b[39m, in \u001b[36mPytorchTrainer.training_step\u001b[39m\u001b[34m(self, batch)\u001b[39m\n\u001b[32m    183\u001b[39m \u001b[38;5;250m\u001b[39m\u001b[33;03m\"\"\"Perform a training step.\u001b[39;00m\n\u001b[32m    184\u001b[39m \n\u001b[32m    185\u001b[39m \u001b[33;03mParameters\u001b[39;00m\n\u001b[32m   (...)\u001b[39m\u001b[32m    194\u001b[39m \n\u001b[32m    195\u001b[39m \u001b[33;03m\"\"\"\u001b[39;00m\n\u001b[32m    196\u001b[39m x, y = batch\n\u001b[32m--> \u001b[39m\u001b[32m197\u001b[39m y_hat = \u001b[38;5;28;43mself\u001b[39;49m\u001b[43m.\u001b[49m\u001b[43mmodel\u001b[49m\u001b[43m(\u001b[49m\u001b[43mx\u001b[49m\u001b[43m)\u001b[49m\n\u001b[32m    198\u001b[39m loss = \u001b[38;5;28mself\u001b[39m.loss_function(y_hat, y.to(\u001b[38;5;28mself\u001b[39m.device))\n\u001b[32m    199\u001b[39m \u001b[38;5;28mself\u001b[39m.train_costs.append(loss.item())\n",
      "\u001b[36mFile \u001b[39m\u001b[32m~/actual_discocirc/lambeq-docs/tutorials_env/lib/python3.11/site-packages/lambeq/training/quantum_model.py:172\u001b[39m, in \u001b[36mQuantumModel.__call__\u001b[39m\u001b[34m(self, *args, **kwargs)\u001b[39m\n\u001b[32m    171\u001b[39m \u001b[38;5;28;01mdef\u001b[39;00m\u001b[38;5;250m \u001b[39m\u001b[34m__call__\u001b[39m(\u001b[38;5;28mself\u001b[39m, *args: Any, **kwargs: Any) -> AnyTensor:\n\u001b[32m--> \u001b[39m\u001b[32m172\u001b[39m     out = \u001b[38;5;28;43mself\u001b[39;49m\u001b[43m.\u001b[49m\u001b[43mforward\u001b[49m\u001b[43m(\u001b[49m\u001b[43m*\u001b[49m\u001b[43margs\u001b[49m\u001b[43m,\u001b[49m\u001b[43m \u001b[49m\u001b[43m*\u001b[49m\u001b[43m*\u001b[49m\u001b[43mkwargs\u001b[49m\u001b[43m)\u001b[49m\n\u001b[32m    173\u001b[39m     \u001b[38;5;28;01mif\u001b[39;00m \u001b[38;5;28mself\u001b[39m._training:\n\u001b[32m    174\u001b[39m         \u001b[38;5;28mself\u001b[39m._log_prediction(out)\n",
      "\u001b[36mCell\u001b[39m\u001b[36m \u001b[39m\u001b[32mIn[7]\u001b[39m\u001b[32m, line 9\u001b[39m, in \u001b[36mPairCircuitModel.forward\u001b[39m\u001b[34m(self, circ_pairs)\u001b[39m\n\u001b[32m      7\u001b[39m \u001b[38;5;28;01mdef\u001b[39;00m\u001b[38;5;250m \u001b[39m\u001b[34mforward\u001b[39m(\u001b[38;5;28mself\u001b[39m, circ_pairs: \u001b[38;5;28mlist\u001b[39m[\u001b[38;5;28mtuple\u001b[39m[Diagram, Diagram]]) -> torch.Tensor:\n\u001b[32m      8\u001b[39m     pos_circs, neg_circs = \u001b[38;5;28mzip\u001b[39m(*circ_pairs)\n\u001b[32m----> \u001b[39m\u001b[32m9\u001b[39m     pos_out = \u001b[38;5;28mabs\u001b[39m(\u001b[38;5;28;43mself\u001b[39;49m\u001b[43m.\u001b[49m\u001b[43mget_diagram_output\u001b[49m\u001b[43m(\u001b[49m\u001b[43mpos_circs\u001b[49m\u001b[43m)\u001b[49m)\n\u001b[32m     10\u001b[39m     neg_out = \u001b[38;5;28mabs\u001b[39m(\u001b[38;5;28mself\u001b[39m.get_diagram_output(neg_circs))\n\u001b[32m     12\u001b[39m     \u001b[38;5;66;03m# implement a function that would merge pos_out and neg_out into an nx2 tensor\u001b[39;00m\n",
      "\u001b[36mFile \u001b[39m\u001b[32m~/actual_discocirc/lambeq-docs/tutorials_env/lib/python3.11/site-packages/lambeq/training/pytorch_quantum_model.py:91\u001b[39m, in \u001b[36mPytorchQuantumModel.get_diagram_output\u001b[39m\u001b[34m(self, diagrams)\u001b[39m\n\u001b[32m     89\u001b[39m \u001b[38;5;28;01mfor\u001b[39;00m d \u001b[38;5;129;01min\u001b[39;00m diagrams:\n\u001b[32m     90\u001b[39m     \u001b[38;5;28;01massert\u001b[39;00m \u001b[38;5;28misinstance\u001b[39m(d, Circuit)\n\u001b[32m---> \u001b[39m\u001b[32m91\u001b[39m     nodes, edges = \u001b[43md\u001b[49m\u001b[43m.\u001b[49m\u001b[43mto_tn\u001b[49m\u001b[43m(\u001b[49m\u001b[43m)\u001b[49m\n\u001b[32m     93\u001b[39m     \u001b[38;5;66;03m# Ensure uniform tensor dtypes for contraction.\u001b[39;00m\n\u001b[32m     94\u001b[39m     dominant_dtype = torch.bool\n",
      "\u001b[36mFile \u001b[39m\u001b[32m~/actual_discocirc/lambeq-docs/tutorials_env/lib/python3.11/site-packages/lambeq/backend/quantum.py:567\u001b[39m, in \u001b[36mDiagram.to_tn\u001b[39m\u001b[34m(self, mixed)\u001b[39m\n\u001b[32m    563\u001b[39m         (scan[q_offset],\n\u001b[32m    564\u001b[39m          scan[q_offset + \u001b[32m1\u001b[39m]) = (scan[q_offset + \u001b[32m1\u001b[39m],\n\u001b[32m    565\u001b[39m                                 scan[q_offset])\n\u001b[32m    566\u001b[39m \u001b[38;5;28;01melse\u001b[39;00m:\n\u001b[32m--> \u001b[39m\u001b[32m567\u001b[39m     utensor = \u001b[43mbox\u001b[49m\u001b[43m.\u001b[49m\u001b[43marray\u001b[49m\n\u001b[32m    568\u001b[39m     node1 = tn.Node(utensor + \u001b[32m0\u001b[39mj, \u001b[33m'\u001b[39m\u001b[33mq1_\u001b[39m\u001b[33m'\u001b[39m + \u001b[38;5;28mstr\u001b[39m(box))\n\u001b[32m    569\u001b[39m     \u001b[38;5;28;01mwith\u001b[39;00m backend() \u001b[38;5;28;01mas\u001b[39;00m np:\n",
      "\u001b[36mFile \u001b[39m\u001b[32m~/actual_discocirc/lambeq-docs/tutorials_env/lib/python3.11/site-packages/lambeq/backend/quantum.py:880\u001b[39m, in \u001b[36mRx.array\u001b[39m\u001b[34m(self)\u001b[39m\n\u001b[32m    877\u001b[39m \u001b[38;5;129m@property\u001b[39m\n\u001b[32m    878\u001b[39m \u001b[38;5;28;01mdef\u001b[39;00m\u001b[38;5;250m \u001b[39m\u001b[34marray\u001b[39m(\u001b[38;5;28mself\u001b[39m):\n\u001b[32m    879\u001b[39m     \u001b[38;5;28;01mwith\u001b[39;00m backend() \u001b[38;5;28;01mas\u001b[39;00m np:\n\u001b[32m--> \u001b[39m\u001b[32m880\u001b[39m         half_theta = np.pi * \u001b[38;5;28;43mself\u001b[39;49m\u001b[43m.\u001b[49m\u001b[43mphase\u001b[49m\n\u001b[32m    881\u001b[39m         sin = \u001b[38;5;28mself\u001b[39m.modules.sin(half_theta)\n\u001b[32m    882\u001b[39m         cos = \u001b[38;5;28mself\u001b[39m.modules.cos(half_theta)\n",
      "\u001b[36mFile \u001b[39m\u001b[32m~/actual_discocirc/lambeq-docs/tutorials_env/lib/python3.11/site-packages/lambeq/backend/quantum.py:866\u001b[39m, in \u001b[36mRotation.phase\u001b[39m\u001b[34m(self)\u001b[39m\n\u001b[32m    861\u001b[39m \u001b[38;5;28;01mdef\u001b[39;00m\u001b[38;5;250m \u001b[39m\u001b[34m__init__\u001b[39m(\u001b[38;5;28mself\u001b[39m, phase):\n\u001b[32m    863\u001b[39m     \u001b[38;5;28msuper\u001b[39m().\u001b[34m__init__\u001b[39m(\n\u001b[32m    864\u001b[39m         \u001b[33mf\u001b[39m\u001b[33m'\u001b[39m\u001b[38;5;132;01m{\u001b[39;00m\u001b[38;5;28mtype\u001b[39m(\u001b[38;5;28mself\u001b[39m).\u001b[34m__name__\u001b[39m\u001b[38;5;132;01m}\u001b[39;00m\u001b[33m(\u001b[39m\u001b[38;5;132;01m{\u001b[39;00mphase\u001b[38;5;132;01m}\u001b[39;00m\u001b[33m)\u001b[39m\u001b[33m'\u001b[39m, qubit, qubit, phase)\n\u001b[32m--> \u001b[39m\u001b[32m866\u001b[39m \u001b[38;5;129m@property\u001b[39m\n\u001b[32m    867\u001b[39m \u001b[38;5;28;01mdef\u001b[39;00m\u001b[38;5;250m \u001b[39m\u001b[34mphase\u001b[39m(\u001b[38;5;28mself\u001b[39m) -> \u001b[38;5;28mfloat\u001b[39m:\n\u001b[32m    868\u001b[39m     \u001b[38;5;28;01mreturn\u001b[39;00m \u001b[38;5;28mself\u001b[39m.data\n\u001b[32m    870\u001b[39m \u001b[38;5;28;01mdef\u001b[39;00m\u001b[38;5;250m \u001b[39m\u001b[34mdagger\u001b[39m(\u001b[38;5;28mself\u001b[39m) -> Self:\n",
      "\u001b[31mKeyboardInterrupt\u001b[39m: "
     ]
    }
   ],
   "source": [
    "from lambeq import PytorchTrainer\n",
    "\n",
    "trainer = PytorchTrainer(\n",
    "        model=model,\n",
    "        loss_function=loss,\n",
    "        optimizer=torch.optim.Adam,\n",
    "        learning_rate=LEARNING_RATE,\n",
    "        epochs=EPOCHS,\n",
    "        evaluate_functions=eval_metrics,\n",
    "        evaluate_on_train=True,\n",
    "        use_tensorboard=False,\n",
    "        verbose='text', \n",
    "        seed=SEED\n",
    "    )\n",
    "\n",
    "trainer.fit(train_dataset, val_dataset)"
   ]
  },
  {
   "cell_type": "markdown",
   "id": "c91c8756",
   "metadata": {},
   "source": [
    "Now that the training has ended, the final part is to test and plot the graphs for the results of the training as shown below. "
   ]
  },
  {
   "cell_type": "code",
   "execution_count": null,
   "id": "2df2f3c7",
   "metadata": {},
   "outputs": [
    {
     "data": {
      "text/plain": [
       "Text(29.4, 1.0, 'early stopping')"
      ]
     },
     "execution_count": 14,
     "metadata": {},
     "output_type": "execute_result"
    },
    {
     "data": {
      "image/png": "[encoded data removed]",
      "text/plain": [
       "<Figure size 1000x600 with 4 Axes>"
      ]
     },
     "metadata": {},
     "output_type": "display_data"
    }
   ],
   "source": [
    "import matplotlib.pyplot as plt\n",
    "import numpy as np\n",
    "\n",
    "fig, ((ax_tl, ax_tr), (ax_bl, ax_br)) = plt.subplots(2, 2, sharex=True, sharey='row', figsize=(10, 6))\n",
    "ax_tl.set_title('Training set')\n",
    "ax_tr.set_title('Validation set')\n",
    "ax_bl.set_xlabel('Iterations')\n",
    "ax_br.set_xlabel('Iterations')\n",
    "ax_bl.set_ylabel('Accuracy')\n",
    "ax_tl.set_ylabel('Loss')\n",
    "\n",
    "colours = iter(plt.rcParams['axes.prop_cycle'].by_key()['color'])\n",
    "range_ = np.arange(1, trainer.epochs + 1)\n",
    "ax_tl.plot(range_, trainer.train_epoch_costs, color=next(colours))\n",
    "ax_bl.plot(range_, trainer.train_eval_results['acc'], color=next(colours))\n",
    "ax_tr.plot(range_, trainer.val_costs, color=next(colours))\n",
    "ax_br.plot(range_, trainer.val_eval_results['acc'], color=next(colours))\n",
    "\n",
    "# mark best model as circle\n",
    "best_epoch = np.argmax(trainer.val_eval_results['acc'])\n",
    "ax_tl.plot(best_epoch + 1, trainer.train_epoch_costs[best_epoch], 'o', color='black', fillstyle='none')\n",
    "ax_tr.plot(best_epoch + 1, trainer.val_costs[best_epoch], 'o', color='black', fillstyle='none')\n",
    "ax_bl.plot(best_epoch + 1, trainer.train_eval_results['acc'][best_epoch], 'o', color='black', fillstyle='none')\n",
    "ax_br.plot(best_epoch + 1, trainer.val_eval_results['acc'][best_epoch], 'o', color='black', fillstyle='none')\n",
    "\n",
    "ax_br.text(best_epoch + 1.4, trainer.val_eval_results['acc'][best_epoch], 'early stopping', va='center')"
   ]
  },
  {
   "cell_type": "markdown",
   "id": "4ad0b133",
   "metadata": {},
   "source": [
    "Finally, We select the best model (from the best epoch) and use it to get the accuracy on the test data. The best epoch is determined based on the validation accuracy, which is marked on the plot by a circle."
   ]
  },
  {
   "cell_type": "code",
   "execution_count": null,
   "id": "463a2d27",
   "metadata": {},
   "outputs": [
    {
     "name": "stdout",
     "output_type": "stream",
     "text": [
      "Test Accuracy: 1.0\n"
     ]
    }
   ],
   "source": [
    "model.load(trainer.log_dir + '/best_model.lt')\n",
    "test_acc = acc(model(test_circuits), torch.tensor(test_answers))\n",
    "print('Test Accuracy:', test_acc)"
   ]
  }
 ],
 "metadata": {
  "kernelspec": {
   "display_name": "tutorials_env",
   "language": "python",
   "name": "python3"
  },
  "language_info": {
   "codemirror_mode": {
    "name": "ipython",
    "version": 3
   },
   "file_extension": ".py",
   "mimetype": "text/x-python",
   "name": "python",
   "nbconvert_exporter": "python",
   "pygments_lexer": "ipython3",
   "version": "3.11.11"
  }
 },
 "nbformat": 4,
 "nbformat_minor": 5
}
