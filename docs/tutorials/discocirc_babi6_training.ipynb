{
 "cells": [
  {
   "cell_type": "markdown",
   "id": "48aad21d",
   "metadata": {},
   "source": [
    "# Tutorial: BabI6 Training and Preprocessing in Python (Part II)\n",
    "\n",
    "In Part I of this tutorial, we learned how to create {term}`DisCoCirc` circuits for question asking for the babI6 dataset. In this part, we proceed to train the model with the circuits that we created."
   ]
  },
  {
   "cell_type": "code",
   "execution_count": 1,
   "id": "b67efc5e",
   "metadata": {},
   "outputs": [],
   "source": [
    "# Parameters determining the type of the data\n",
    "# SANDWICH functor flag\n",
    "SANDWICH = True\n",
    "\n",
    "# Updating the FFL Parameter\n",
    "FFL = False\n",
    "\n",
    "# Names of Resulting file paths for the Datasets\n",
    "TRAINING_DATASET_FILEPATH = 'tutorial_training_ffl' + str(FFL) + '_sandwich_' + str(SANDWICH) + '.pkl'\n",
    "VALIDATION_DATASET_FILEPATH = 'tutorial_validation_ffl' + str(FFL) + '_sandwich_' + str(SANDWICH) + '.pkl'\n",
    "TEST_DATASET_FILEPATH = 'tutorial_test_ffl' + str(FFL) + '_sandwich_' + str(SANDWICH) + '.pkl'\n",
    "\n",
    "BATCH_SIZE = 1\n",
    "EPOCHS = 30\n",
    "LEARNING_RATE = 0.005"
   ]
  },
  {
   "cell_type": "code",
   "execution_count": 2,
   "id": "52347a8c",
   "metadata": {},
   "outputs": [],
   "source": [
    "import torch\n",
    "import numpy as np\n",
    "import random\n",
    "\n",
    "def set_pytorch_seed(seed_value):\n",
    "    random.seed(seed_value)\n",
    "    np.random.seed(seed_value)\n",
    "    torch.manual_seed(seed_value)\n",
    "    if torch.cuda.is_available():\n",
    "        torch.cuda.manual_seed(seed_value)\n",
    "        torch.cuda.manual_seed_all(seed_value)\n",
    "\n",
    "SEED = 2\n",
    "set_pytorch_seed(SEED)"
   ]
  },
  {
   "cell_type": "markdown",
   "id": "0f9091f4",
   "metadata": {},
   "source": [
    "## 8. Training the Circuits and Tests\n",
    "Now that we have the data ready, we proceed with the training as usual, except that, we have to deal with pairs of circuits instead of single circuits, which will be accommodated by overriding the forward() method in the model."
   ]
  },
  {
   "cell_type": "code",
   "execution_count": null,
   "id": "c6023fa1",
   "metadata": {},
   "outputs": [],
   "source": [
    "import pickle\n",
    "\n",
    "training_dict_babi6 = {}\n",
    "with open(TRAINING_DATASET_FILEPATH, 'rb') as file:\n",
    "    training_dict_babi6 = pickle.load(file)\n",
    "\n",
    "val_dict_babi6 = {}\n",
    "with open(VALIDATION_DATASET_FILEPATH, 'rb') as file:\n",
    "    val_dict_babi6 = pickle.load(file)\n",
    "\n",
    "test_dict_babi6 = {}\n",
    "with open(TEST_DATASET_FILEPATH, 'rb') as file:\n",
    "    test_dict_babi6 = pickle.load(file)"
   ]
  },
  {
   "cell_type": "code",
   "execution_count": 4,
   "id": "1565fb9d",
   "metadata": {},
   "outputs": [],
   "source": [
    "training_circuits = []\n",
    "training_answers = []\n",
    "training_questions = []\n",
    "training_contexts = []\n",
    "\n",
    "for key, value in training_dict_babi6.items():\n",
    "    training_answers.append(value['answer'])\n",
    "    training_questions.append(value['question'])\n",
    "    training_contexts.append(value['text'])\n",
    "    training_circuits.append(value['quantum_circ_pair_pos_neg'])\n",
    "\n",
    "val_circuits = []\n",
    "val_answers = []\n",
    "val_questions = []\n",
    "val_contexts = []\n",
    "\n",
    "for key, value in val_dict_babi6.items():\n",
    "    val_answers.append(value['answer'])\n",
    "    val_questions.append(value['question'])\n",
    "    val_contexts.append(value['text'])\n",
    "    val_circuits.append(value['quantum_circ_pair_pos_neg'])\n",
    "    \n",
    "test_circuits = []\n",
    "test_answers = []\n",
    "test_questions = []\n",
    "test_contexts = []\n",
    "\n",
    "for key, value in test_dict_babi6.items():\n",
    "    test_answers.append(value['answer'])\n",
    "    test_questions.append(value['question'])\n",
    "    test_contexts.append(value['text'])\n",
    "    test_circuits.append(value['quantum_circ_pair_pos_neg'])"
   ]
  },
  {
   "cell_type": "markdown",
   "id": "99b9ac0c",
   "metadata": {},
   "source": [
    "The final output of the model is going to be a vector that we can interpret as a probability distribution over the possible answers (in this case [yes, no]). Therefore, We modify the yes and no answers and replace their representations with a one hot encoding over the possible assertions, i.e. by \"[1, 0]\"s and \"[0, 1]\"s respectively."
   ]
  },
  {
   "cell_type": "code",
   "execution_count": 5,
   "id": "007b6bc8",
   "metadata": {},
   "outputs": [],
   "source": [
    "training_answers = [[0., 1.] if not answer else [1., 0.] for answer in training_answers]\n",
    "val_answers = [[0., 1.] if not answer else [1., 0.] for answer in val_answers]\n",
    "test_answers = [[0., 1.] if not answer else [1., 0.] for answer in test_answers]"
   ]
  },
  {
   "cell_type": "code",
   "execution_count": 6,
   "id": "6857d72a",
   "metadata": {},
   "outputs": [
    {
     "data": {
      "text/plain": [
       "106"
      ]
     },
     "execution_count": 6,
     "metadata": {},
     "output_type": "execute_result"
    }
   ],
   "source": [
    "len(training_answers)"
   ]
  },
  {
   "cell_type": "markdown",
   "id": "1d54c0c2",
   "metadata": {},
   "source": [
    "The following shows how we override the forward() method to accommodate having pairs of circuits."
   ]
  },
  {
   "cell_type": "code",
   "execution_count": 7,
   "id": "67d6507a",
   "metadata": {},
   "outputs": [],
   "source": [
    "from lambeq import PytorchQuantumModel\n",
    "from lambeq.backend.quantum import Diagram\n",
    "import torch\n",
    "\n",
    "\n",
    "class PairCircuitModel(PytorchQuantumModel):\n",
    "    def forward(self, circ_pairs: list[tuple[Diagram, Diagram]]) -> torch.Tensor:\n",
    "        pos_circs, neg_circs = zip(*circ_pairs)\n",
    "        pos_out = abs(self.get_diagram_output(pos_circs))\n",
    "        neg_out = abs(self.get_diagram_output(neg_circs))\n",
    "\n",
    "        # implement a function that would merge pos_out and neg_out into an nx2 tensor\n",
    "        out_tensor = torch.stack((pos_out, neg_out), dim=1)\n",
    "        out_tensor = torch.softmax(out_tensor, dim=1)\n",
    "    \n",
    "        return out_tensor"
   ]
  },
  {
   "cell_type": "markdown",
   "id": "549f1f68",
   "metadata": {},
   "source": [
    "The way circuits are stored in our current example is as pairs. However, when initializing circuits, one has to simply pass all the circuits to be initilised to the model (as seen in later cells). Therefore, for the initialisation step, we will create a new collection of circuits that includes all the circuits from the pairs of circuits that we originally have."
   ]
  },
  {
   "cell_type": "code",
   "execution_count": 8,
   "id": "84d09be7",
   "metadata": {},
   "outputs": [],
   "source": [
    "all_circuits = [\n",
    "    circuit\n",
    "    for circuit_tuple in training_circuits + val_circuits + test_circuits\n",
    "    for circuit in circuit_tuple\n",
    "]\n",
    "\n",
    "backend_config = {'backend': 'default.qubit'}  # this is the default PennyLane simulator\n",
    "model = PairCircuitModel.from_diagrams(all_circuits)\n",
    "\n",
    "model.initialise_weights()"
   ]
  },
  {
   "cell_type": "markdown",
   "id": "a897cf89",
   "metadata": {},
   "source": [
    "Finally, we proceed with training as usual (see previous tutorials for more details on this part)."
   ]
  },
  {
   "cell_type": "code",
   "execution_count": 9,
   "id": "9081225f",
   "metadata": {},
   "outputs": [],
   "source": [
    "def acc(y_hat, y):\n",
    "    return (torch.argmax(y_hat, dim=1) ==\n",
    "            torch.argmax(y, dim=1)).sum().item()/len(y)\n",
    "\n",
    "def loss(y_hat, y):\n",
    "    return torch.nn.functional.binary_cross_entropy(\n",
    "        y_hat, torch.tensor(y, dtype=y_hat.dtype)\n",
    "    )\n",
    "eval_metrics = {\"acc\": acc}"
   ]
  },
  {
   "cell_type": "code",
   "execution_count": 10,
   "id": "991d8f44",
   "metadata": {},
   "outputs": [],
   "source": [
    "from lambeq import Dataset\n",
    "\n",
    "train_dataset = Dataset(training_circuits,\n",
    "                        training_answers,\n",
    "                        batch_size=BATCH_SIZE)\n",
    "\n",
    "val_dataset = Dataset(val_circuits, val_answers, shuffle=False)"
   ]
  },
  {
   "cell_type": "code",
   "execution_count": 11,
   "id": "ec1a4b8e",
   "metadata": {},
   "outputs": [
    {
     "data": {
      "text/plain": [
       "36"
      ]
     },
     "execution_count": 11,
     "metadata": {},
     "output_type": "execute_result"
    }
   ],
   "source": [
    "len(val_dataset)"
   ]
  },
  {
   "cell_type": "code",
   "execution_count": 12,
   "id": "a340f1a1",
   "metadata": {},
   "outputs": [
    {
     "name": "stderr",
     "output_type": "stream",
     "text": [
      "/var/folders/xl/dhbq46vx3fjd140_39vc28hh0000gp/T/ipykernel_18693/976416833.py:7: UserWarning: To copy construct from a tensor, it is recommended to use sourceTensor.detach().clone() or sourceTensor.detach().clone().requires_grad_(True), rather than torch.tensor(sourceTensor).\n",
      "  y_hat, torch.tensor(y, dtype=y_hat.dtype)\n",
      "Epoch 1:   train/loss: 0.6312   valid/loss: 0.6356   train/time: 46.62s   valid/time: 5.91s   train/acc: 0.5943   valid/acc: 0.7222\n",
      "Epoch 2:   train/loss: 0.4173   valid/loss: 0.6287   train/time: 10.44s   valid/time: 2.47s   train/acc: 0.7170   valid/acc: 0.7778\n",
      "Epoch 3:   train/loss: 0.6656   valid/loss: 0.6236   train/time: 10.44s   valid/time: 2.17s   train/acc: 0.7453   valid/acc: 0.5556\n",
      "Epoch 4:   train/loss: 0.5148   valid/loss: 0.5683   train/time: 10.35s   valid/time: 2.46s   train/acc: 0.7830   valid/acc: 0.8056\n",
      "Epoch 5:   train/loss: 0.5104   valid/loss: 0.5452   train/time: 10.40s   valid/time: 2.48s   train/acc: 0.8396   valid/acc: 0.7778\n",
      "Epoch 6:   train/loss: 0.4967   valid/loss: 0.5314   train/time: 10.57s   valid/time: 2.47s   train/acc: 0.7830   valid/acc: 0.8333\n",
      "Epoch 7:   train/loss: 0.4594   valid/loss: 0.5445   train/time: 10.82s   valid/time: 3.05s   train/acc: 0.8113   valid/acc: 0.6667\n",
      "Epoch 8:   train/loss: 0.6865   valid/loss: 0.5223   train/time: 59m52s   valid/time: 2.23s   train/acc: 0.8962   valid/acc: 0.7778\n",
      "Epoch 9:   train/loss: 0.3227   valid/loss: 0.5345   train/time: 11.31s   valid/time: 2.21s   train/acc: 0.7830   valid/acc: 0.5833\n",
      "Epoch 10:  train/loss: 0.4968   valid/loss: 0.5370   train/time: 10.89s   valid/time: 2.19s   train/acc: 0.8585   valid/acc: 0.8611\n",
      "Epoch 11:  train/loss: 0.3737   valid/loss: 0.5392   train/time: 11.69s   valid/time: 2.20s   train/acc: 0.8302   valid/acc: 0.7500\n",
      "Epoch 12:  train/loss: 0.3861   valid/loss: 0.5304   train/time: 10.82s   valid/time: 2.65s   train/acc: 0.8491   valid/acc: 0.8889\n",
      "Epoch 13:  train/loss: 0.7027   valid/loss: 0.5260   train/time: 11.03s   valid/time: 2.34s   train/acc: 0.8208   valid/acc: 0.8611\n",
      "Epoch 14:  train/loss: 0.4530   valid/loss: 0.5268   train/time: 10.79s   valid/time: 2.18s   train/acc: 0.8208   valid/acc: 0.7222\n",
      "Epoch 15:  train/loss: 0.5725   valid/loss: 0.5536   train/time: 10.54s   valid/time: 2.50s   train/acc: 0.8491   valid/acc: 0.6944\n",
      "Epoch 16:  train/loss: 0.6593   valid/loss: 0.5459   train/time: 10.86s   valid/time: 2.49s   train/acc: 0.8208   valid/acc: 0.7778\n",
      "Epoch 17:  train/loss: 0.4571   valid/loss: 0.5356   train/time: 11.60s   valid/time: 2.18s   train/acc: 0.8585   valid/acc: 0.7778\n",
      "Epoch 18:  train/loss: 0.3315   valid/loss: 0.5243   train/time: 10.58s   valid/time: 2.46s   train/acc: 0.8208   valid/acc: 0.7500\n",
      "Epoch 19:  train/loss: 0.5059   valid/loss: 0.5310   train/time: 10.52s   valid/time: 2.52s   train/acc: 0.8019   valid/acc: 0.8056\n",
      "Epoch 20:  train/loss: 0.6960   valid/loss: 0.5354   train/time: 10.49s   valid/time: 2.19s   train/acc: 0.8113   valid/acc: 0.7500\n",
      "Epoch 21:  train/loss: 0.6999   valid/loss: 0.5252   train/time: 10.84s   valid/time: 2.24s   train/acc: 0.8208   valid/acc: 0.7222\n",
      "Epoch 22:  train/loss: 0.3335   valid/loss: 0.5278   train/time: 10.84s   valid/time: 2.20s   train/acc: 0.7925   valid/acc: 0.6944\n",
      "Epoch 23:  train/loss: 0.5844   valid/loss: 0.5279   train/time: 11.63s   valid/time: 2.19s   train/acc: 0.8396   valid/acc: 0.7500\n",
      "Epoch 24:  train/loss: 0.6905   valid/loss: 0.5478   train/time: 9m43s   valid/time: 2.52s   train/acc: 0.8113   valid/acc: 0.5833\n",
      "Epoch 25:  train/loss: 0.4814   valid/loss: 0.5542   train/time: 11.04s   valid/time: 2.58s   train/acc: 0.7830   valid/acc: 0.7778\n",
      "Epoch 26:  train/loss: 0.4345   valid/loss: 0.5451   train/time: 11.14s   valid/time: 2.37s   train/acc: 0.7453   valid/acc: 0.7778\n",
      "Epoch 27:  train/loss: 0.3209   valid/loss: 0.5450   train/time: 11.70s   valid/time: 2.31s   train/acc: 0.8396   valid/acc: 0.7778\n",
      "Epoch 28:  train/loss: 0.3315   valid/loss: 0.5391   train/time: 11.51s   valid/time: 2.29s   train/acc: 0.8302   valid/acc: 0.8611\n",
      "Epoch 29:  train/loss: 0.6920   valid/loss: 0.5331   train/time: 11.47s   valid/time: 2.30s   train/acc: 0.8396   valid/acc: 0.6667\n",
      "Epoch 30:  train/loss: 0.4924   valid/loss: 0.5331   train/time: 11.31s   valid/time: 2.61s   train/acc: 0.7642   valid/acc: 0.8611\n",
      "\n",
      "Training completed!\n",
      "train/time: 1h15m16s   train/time_per_epoch: 2m31s   train/time_per_step: 1.42s   valid/time: 1m15s   valid/time_per_eval: 2.50s\n"
     ]
    }
   ],
   "source": [
    "from lambeq import PytorchTrainer\n",
    "\n",
    "trainer = PytorchTrainer(\n",
    "        model=model,\n",
    "        loss_function=loss,\n",
    "        optimizer=torch.optim.Adam,\n",
    "        learning_rate=LEARNING_RATE,\n",
    "        epochs=EPOCHS,\n",
    "        evaluate_functions=eval_metrics,\n",
    "        evaluate_on_train=True,\n",
    "        use_tensorboard=False,\n",
    "        verbose='text'\n",
    "    )\n",
    "\n",
    "trainer.fit(train_dataset, val_dataset)"
   ]
  },
  {
   "cell_type": "markdown",
   "id": "c91c8756",
   "metadata": {},
   "source": [
    "Now that the training has ended, the final part is to test and plot the graphs for the results of the training as shown below. "
   ]
  },
  {
   "cell_type": "code",
   "execution_count": 13,
   "id": "2df2f3c7",
   "metadata": {},
   "outputs": [
    {
     "data": {
      "text/plain": [
       "Text(12.4, 0.8888888888888888, 'early stopping')"
      ]
     },
     "execution_count": 13,
     "metadata": {},
     "output_type": "execute_result"
    },
    {
     "data": {
      "image/png": "[encoded data removed]",
      "text/plain": [
       "<Figure size 1000x600 with 4 Axes>"
      ]
     },
     "metadata": {},
     "output_type": "display_data"
    }
   ],
   "source": [
    "import matplotlib.pyplot as plt\n",
    "import numpy as np\n",
    "\n",
    "fig, ((ax_tl, ax_tr), (ax_bl, ax_br)) = plt.subplots(2, 2, sharex=True, sharey='row', figsize=(10, 6))\n",
    "ax_tl.set_title('Training set')\n",
    "ax_tr.set_title('Validation set')\n",
    "ax_bl.set_xlabel('Iterations')\n",
    "ax_br.set_xlabel('Iterations')\n",
    "ax_bl.set_ylabel('Accuracy')\n",
    "ax_tl.set_ylabel('Loss')\n",
    "\n",
    "colours = iter(plt.rcParams['axes.prop_cycle'].by_key()['color'])\n",
    "range_ = np.arange(1, trainer.epochs + 1)\n",
    "ax_tl.plot(range_, trainer.train_epoch_costs, color=next(colours))\n",
    "ax_bl.plot(range_, trainer.train_eval_results['acc'], color=next(colours))\n",
    "ax_tr.plot(range_, trainer.val_costs, color=next(colours))\n",
    "ax_br.plot(range_, trainer.val_eval_results['acc'], color=next(colours))\n",
    "\n",
    "# mark best model as circle\n",
    "best_epoch = np.argmax(trainer.val_eval_results['acc'])\n",
    "ax_tl.plot(best_epoch + 1, trainer.train_epoch_costs[best_epoch], 'o', color='black', fillstyle='none')\n",
    "ax_tr.plot(best_epoch + 1, trainer.val_costs[best_epoch], 'o', color='black', fillstyle='none')\n",
    "ax_bl.plot(best_epoch + 1, trainer.train_eval_results['acc'][best_epoch], 'o', color='black', fillstyle='none')\n",
    "ax_br.plot(best_epoch + 1, trainer.val_eval_results['acc'][best_epoch], 'o', color='black', fillstyle='none')\n",
    "\n",
    "ax_br.text(best_epoch + 1.4, trainer.val_eval_results['acc'][best_epoch], 'early stopping', va='center')"
   ]
  },
  {
   "cell_type": "markdown",
   "id": "4ad0b133",
   "metadata": {},
   "source": [
    "Finally, We select the best model (from the best epoch) and use it to get the accuracy on the test data. The best epoch is determined based on the validation accuracy, which is marked on the plot by a circle."
   ]
  },
  {
   "cell_type": "code",
   "execution_count": 14,
   "id": "463a2d27",
   "metadata": {},
   "outputs": [
    {
     "name": "stdout",
     "output_type": "stream",
     "text": [
      "Test Accuracy: 0.9166666666666666\n"
     ]
    }
   ],
   "source": [
    "model.load(trainer.log_dir + '/best_model.lt')\n",
    "test_acc = acc(model(test_circuits), torch.tensor(test_answers))\n",
    "print('Test Accuracy:', test_acc)"
   ]
  }
 ],
 "metadata": {
  "kernelspec": {
   "display_name": "tutorials_env",
   "language": "python",
   "name": "python3"
  },
  "language_info": {
   "codemirror_mode": {
    "name": "ipython",
    "version": 3
   },
   "file_extension": ".py",
   "mimetype": "text/x-python",
   "name": "python",
   "nbconvert_exporter": "python",
   "pygments_lexer": "ipython3",
   "version": "3.11.11"
  }
 },
 "nbformat": 4,
 "nbformat_minor": 5
}
