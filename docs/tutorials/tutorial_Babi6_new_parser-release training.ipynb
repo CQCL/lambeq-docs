{
 "cells": [
  {
   "cell_type": "markdown",
   "id": "48aad21d",
   "metadata": {},
   "source": [
    "# Tutorial: BabI6 Training and Preprocessing in Python (Part II)\n",
    "\n",
    "In Part I of this tutorial, we learned how to create DisCoCirc circuits for question asking for the babI6 dataset. In this part, we proceed to train the model with the circuits that we created."
   ]
  },
  {
   "cell_type": "code",
   "execution_count": 12,
   "id": "b67efc5e",
   "metadata": {},
   "outputs": [],
   "source": [
    "# Parameters determining the type of the data\n",
    "# SANDWICH functor flag\n",
    "SANDWICH = True\n",
    "\n",
    "# Updating the FFL Parameter\n",
    "FFL = True\n",
    "\n",
    "# Names of Resulting file paths for the Datasets\n",
    "TRAINING_DATASET_FILEPATH = 'tutorial_training_ffl' + str(FFL) + '_sandwich_' + str(SANDWICH) + '.pkl'\n",
    "VALIDATION_DATASET_FILEPATH = 'tutorial_validation_ffl' + str(FFL) + '_sandwich_' + str(SANDWICH) + '.pkl'\n",
    "TEST_DATASET_FILEPATH = 'tutorial_test_ffl' + str(FFL) + '_sandwich_' + str(SANDWICH) + '.pkl'\n",
    "\n",
    "BATCH_SIZE = 5\n",
    "EPOCHS = 30\n",
    "SEED = 2\n",
    "LEARNING_RATE = 0.005"
   ]
  },
  {
   "cell_type": "markdown",
   "id": "0f9091f4",
   "metadata": {},
   "source": [
    "## 8. Training the Circuits and Tests\n",
    "Now that we have the data ready, we proceed with the training as usual, except that, we have to deal with pairs of circuits instead of single circuits, which will be accommodated by overriding the forward() method in the model."
   ]
  },
  {
   "cell_type": "code",
   "execution_count": 13,
   "id": "c6023fa1",
   "metadata": {},
   "outputs": [],
   "source": [
    "import pickle\n",
    "training_dict_babi6 = {}\n",
    "\n",
    "with open(TRAINING_DATASET_FILEPATH, 'rb') as file:\n",
    "    training_dict_babi6 = pickle.load(file)\n",
    "\n",
    "val_dict_babi6 = {}\n",
    "\n",
    "with open(VALIDATION_DATASET_FILEPATH, 'rb') as file:\n",
    "    val_dict_babi6 = pickle.load(file)\n",
    "\n",
    "test_dict_babi6 = {}\n",
    "with open(TEST_DATASET_FILEPATH, 'rb') as file:\n",
    "    test_dict_babi6 = pickle.load(file)"
   ]
  },
  {
   "cell_type": "code",
   "execution_count": 14,
   "id": "1565fb9d",
   "metadata": {},
   "outputs": [],
   "source": [
    "training_circuits = []\n",
    "training_answers = []\n",
    "training_questions = []\n",
    "training_contexts = []\n",
    "\n",
    "for key, value in training_dict_babi6.items():\n",
    "    training_answers.append(value['answer'])\n",
    "    training_questions.append(value['question'])\n",
    "    training_contexts.append(value['text'])\n",
    "    training_circuits.append(value['quantum_circ_pair_pos_neg'])\n",
    "\n",
    "val_circuits = []\n",
    "val_answers = []\n",
    "val_questions = []\n",
    "val_contexts = []\n",
    "\n",
    "for key, value in val_dict_babi6.items():\n",
    "    val_answers.append(value['answer'])\n",
    "    val_questions.append(value['question'])\n",
    "    val_contexts.append(value['text'])\n",
    "    val_circuits.append(value['quantum_circ_pair_pos_neg'])\n",
    "    \n",
    "test_circuits = []\n",
    "test_answers = []\n",
    "test_questions = []\n",
    "test_contexts = []\n",
    "\n",
    "for key, value in test_dict_babi6.items():\n",
    "    test_answers.append(value['answer'])\n",
    "    test_questions.append(value['question'])\n",
    "    test_contexts.append(value['text'])\n",
    "    test_circuits.append(value['quantum_circ_pair_pos_neg'])"
   ]
  },
  {
   "cell_type": "markdown",
   "id": "99b9ac0c",
   "metadata": {},
   "source": [
    "The final output of the model is going to be a vector that we can interpret as a probability distribution over the possible answers (in this case [yes, no]). Therefore, We modify the yes and no answers and replace their representations by 1s and 0s, i.e. by \"[1, 0]\"s and \"[0, 1]\"s respectively."
   ]
  },
  {
   "cell_type": "code",
   "execution_count": 15,
   "id": "007b6bc8",
   "metadata": {},
   "outputs": [],
   "source": [
    "training_answers = [[0., 1.] if not answer else [1., 0.] for answer in training_answers]\n",
    "val_answers = [[0., 1.] if not answer else [1., 0.] for answer in val_answers]\n",
    "test_answers = [[0., 1.] if not answer else [1., 0.] for answer in test_answers]"
   ]
  },
  {
   "cell_type": "code",
   "execution_count": 16,
   "id": "6857d72a",
   "metadata": {},
   "outputs": [
    {
     "data": {
      "text/plain": [
       "105"
      ]
     },
     "execution_count": 16,
     "metadata": {},
     "output_type": "execute_result"
    }
   ],
   "source": [
    "len(training_answers)"
   ]
  },
  {
   "cell_type": "markdown",
   "id": "1d54c0c2",
   "metadata": {},
   "source": [
    "The following shows how we override the forward() method to accommodate having pairs of circuits."
   ]
  },
  {
   "cell_type": "code",
   "execution_count": 17,
   "id": "67d6507a",
   "metadata": {},
   "outputs": [],
   "source": [
    "from lambeq import PennyLaneModel\n",
    "from lambeq.backend.quantum import Diagram\n",
    "import torch\n",
    "\n",
    "\n",
    "class PairCircuitModel(PennyLaneModel):\n",
    "    def forward(self, circ_pairs: list[tuple[Diagram, Diagram]]) -> torch.Tensor:\n",
    "        pos_circs, neg_circs = zip(*circ_pairs)\n",
    "        pos_out = abs(self.get_diagram_output(pos_circs))\n",
    "        neg_out = abs(self.get_diagram_output(neg_circs))\n",
    "\n",
    "        # implement a function that would merge pos_out and neg_out into an nx2 tensor\n",
    "        out_tensor = torch.stack((pos_out, neg_out), dim=1)\n",
    "        out_tensor = torch.softmax(out_tensor, dim=1)\n",
    "    \n",
    "        return out_tensor\n",
    "\n"
   ]
  },
  {
   "cell_type": "markdown",
   "id": "549f1f68",
   "metadata": {},
   "source": [
    "The way circuits are stored in our current example is as pairs. However, when initializing circuits, one has to simply pass all the circuits to be initilised to the model (as seen in later cells). Therefore, for the initialisation step, we will create a new collection of circuits that includes all the circuits from the pairs of circuits that we originally have."
   ]
  },
  {
   "cell_type": "code",
   "execution_count": 23,
   "id": "84d09be7",
   "metadata": {},
   "outputs": [],
   "source": [
    "all_circuits = [\n",
    "    circuit\n",
    "    for circuit_tuple in training_circuits + val_circuits + test_circuits\n",
    "    for circuit in circuit_tuple\n",
    "]\n",
    "\n",
    "backend_config = {'backend': 'default.qubit'}  # this is the default PennyLane simulator\n",
    "model = PairCircuitModel.from_diagrams(all_circuits,\n",
    "                                     probabilities=False,\n",
    "                                     normalize=True,\n",
    "                                     backend_config=backend_config)\n",
    "\n",
    "model.initialise_weights()"
   ]
  },
  {
   "cell_type": "markdown",
   "id": "a897cf89",
   "metadata": {},
   "source": [
    "Finally, we proceed with training as usual (see previous tutorials for more details on this part)."
   ]
  },
  {
   "cell_type": "code",
   "execution_count": 24,
   "id": "9081225f",
   "metadata": {},
   "outputs": [],
   "source": [
    "def acc(y_hat, y):\n",
    "    return (torch.argmax(y_hat, dim=1) ==\n",
    "            torch.argmax(y, dim=1)).sum().item()/len(y)\n",
    "\n",
    "def loss(y_hat, y):\n",
    "    return torch.nn.functional.binary_cross_entropy(\n",
    "        y_hat, torch.tensor(y, dtype=y_hat.dtype)\n",
    "    )\n",
    "\n",
    "\n",
    "eval_metrics = {\"acc\": acc}"
   ]
  },
  {
   "cell_type": "code",
   "execution_count": 25,
   "id": "991d8f44",
   "metadata": {},
   "outputs": [],
   "source": [
    "from lambeq import Dataset\n",
    "\n",
    "train_dataset = Dataset(training_circuits,\n",
    "                        training_answers,\n",
    "                        batch_size=BATCH_SIZE)\n",
    "\n",
    "val_dataset = Dataset(val_circuits, val_answers, shuffle=False)"
   ]
  },
  {
   "cell_type": "code",
   "execution_count": 26,
   "id": "ec1a4b8e",
   "metadata": {},
   "outputs": [
    {
     "data": {
      "text/plain": [
       "105"
      ]
     },
     "execution_count": 26,
     "metadata": {},
     "output_type": "execute_result"
    }
   ],
   "source": [
    "len(train_dataset)"
   ]
  },
  {
   "cell_type": "code",
   "execution_count": 27,
   "id": "a340f1a1",
   "metadata": {},
   "outputs": [
    {
     "name": "stderr",
     "output_type": "stream",
     "text": [
      "/var/folders/xl/dhbq46vx3fjd140_39vc28hh0000gp/T/ipykernel_83154/1585835587.py:7: UserWarning: To copy construct from a tensor, it is recommended to use sourceTensor.clone().detach() or sourceTensor.clone().detach().requires_grad_(True), rather than torch.tensor(sourceTensor).\n",
      "  y_hat, torch.tensor(y, dtype=y_hat.dtype)\n",
      "Epoch 1:   train/loss: 0.9346   valid/loss: 6.8342   train/time: 5.32s   valid/time: 1.01s   train/acc: 0.5905   valid/acc: 0.5429\n",
      "Epoch 2:   train/loss: 0.2990   valid/loss: 8.0345   train/time: 5.46s   valid/time: 1.02s   train/acc: 0.6095   valid/acc: 0.5143\n",
      "Epoch 3:   train/loss: 0.7921   valid/loss: 2.7350   train/time: 5.36s   valid/time: 1.03s   train/acc: 0.7333   valid/acc: 0.5429\n",
      "Epoch 4:   train/loss: 14.7256   valid/loss: 7.4992   train/time: 5.32s   valid/time: 1.03s   train/acc: 0.5619   valid/acc: 0.4857\n",
      "Epoch 5:   train/loss: 1.0462   valid/loss: 4.2637   train/time: 5.44s   valid/time: 1.05s   train/acc: 0.6286   valid/acc: 0.4857\n",
      "Epoch 6:   train/loss: 0.1580   valid/loss: 12.2741   train/time: 5.70s   valid/time: 1.03s   train/acc: 0.6190   valid/acc: 0.4571\n",
      "Epoch 7:   train/loss: 6.8167   valid/loss: 5.6832   train/time: 5.39s   valid/time: 1.04s   train/acc: 0.7238   valid/acc: 0.4857\n",
      "Epoch 8:   train/loss: 0.3790   valid/loss: 6.2157   train/time: 5.17s   valid/time: 1.26s   train/acc: 0.7333   valid/acc: 0.4286\n",
      "Epoch 9:   train/loss: 0.2092   valid/loss: 7.0995   train/time: 5.21s   valid/time: 1.27s   train/acc: 0.8000   valid/acc: 0.4857\n",
      "Epoch 10:  train/loss: 0.1870   valid/loss: 6.0674   train/time: 5.33s   valid/time: 1.48s   train/acc: 0.8190   valid/acc: 0.4857\n",
      "Epoch 11:  train/loss: 0.2487   valid/loss: 3.8180   train/time: 5.46s   valid/time: 1.03s   train/acc: 0.8857   valid/acc: 0.5714\n",
      "Epoch 12:  train/loss: 0.0456   valid/loss: 3.2134   train/time: 5.52s   valid/time: 1.04s   train/acc: 0.8667   valid/acc: 0.5714\n",
      "Epoch 13:  train/loss: 0.2040   valid/loss: 3.2660   train/time: 5.38s   valid/time: 1.05s   train/acc: 0.8857   valid/acc: 0.5714\n",
      "Epoch 14:  train/loss: 0.1381   valid/loss: 3.2107   train/time: 5.67s   valid/time: 1.05s   train/acc: 0.9238   valid/acc: 0.5714\n",
      "Epoch 15:  train/loss: 0.1448   valid/loss: 3.0778   train/time: 5.53s   valid/time: 1.08s   train/acc: 0.9238   valid/acc: 0.6286\n",
      "Epoch 16:  train/loss: 1.2513   valid/loss: 3.7392   train/time: 5.48s   valid/time: 1.05s   train/acc: 0.7143   valid/acc: 0.5143\n",
      "Epoch 17:  train/loss: 0.0843   valid/loss: 5.8888   train/time: 6.10s   valid/time: 1.09s   train/acc: 0.7333   valid/acc: 0.6286\n",
      "Epoch 18:  train/loss: 0.3621   valid/loss: 6.2788   train/time: 5.48s   valid/time: 1.05s   train/acc: 0.8381   valid/acc: 0.6000\n",
      "Epoch 19:  train/loss: 0.0967   valid/loss: 4.8195   train/time: 5.46s   valid/time: 1.14s   train/acc: 0.8952   valid/acc: 0.6571\n",
      "Epoch 20:  train/loss: 0.3041   valid/loss: 4.3510   train/time: 5.44s   valid/time: 1.06s   train/acc: 0.9238   valid/acc: 0.6286\n",
      "Epoch 21:  train/loss: 0.0788   valid/loss: 4.5908   train/time: 5.93s   valid/time: 1.10s   train/acc: 0.9524   valid/acc: 0.6000\n",
      "Epoch 22:  train/loss: 0.3641   valid/loss: 4.6065   train/time: 5.84s   valid/time: 1.13s   train/acc: 0.9714   valid/acc: 0.6286\n",
      "Epoch 23:  train/loss: 0.0930   valid/loss: 5.3995   train/time: 5.44s   valid/time: 1.05s   train/acc: 0.9810   valid/acc: 0.6286\n",
      "Epoch 24:  train/loss: 0.1385   valid/loss: 5.4588   train/time: 5.42s   valid/time: 1.05s   train/acc: 0.9714   valid/acc: 0.6286\n",
      "Epoch 25:  train/loss: 0.2872   valid/loss: 6.8909   train/time: 5.54s   valid/time: 1.06s   train/acc: 0.9905   valid/acc: 0.6286\n",
      "Epoch 26:  train/loss: 0.0618   valid/loss: 7.5244   train/time: 5.54s   valid/time: 1.12s   train/acc: 0.9714   valid/acc: 0.6000\n",
      "Epoch 27:  train/loss: 0.1148   valid/loss: 7.2076   train/time: 5.27s   valid/time: 1.29s   train/acc: 0.9810   valid/acc: 0.6286\n",
      "Epoch 28:  train/loss: 0.2075   valid/loss: 8.3714   train/time: 5.19s   valid/time: 1.29s   train/acc: 0.9905   valid/acc: 0.6286\n",
      "Epoch 29:  train/loss: 0.1348   valid/loss: 7.4553   train/time: 5.22s   valid/time: 1.30s   train/acc: 0.9905   valid/acc: 0.6286\n",
      "Epoch 30:  train/loss: 0.0633   valid/loss: 10.5360   train/time: 5.21s   valid/time: 1.29s   train/acc: 0.9810   valid/acc: 0.6000\n",
      "\n",
      "Training completed!\n",
      "train/time: 2m44s   train/time_per_epoch: 5.46s   train/time_per_step: 0.26s   valid/time: 33.54s   valid/time_per_eval: 1.12s\n"
     ]
    }
   ],
   "source": [
    "from lambeq import PytorchTrainer\n",
    "\n",
    "trainer = PytorchTrainer(\n",
    "        model=model,\n",
    "        loss_function=loss,\n",
    "        optimizer=torch.optim.Adam,\n",
    "        learning_rate=LEARNING_RATE,\n",
    "        epochs=EPOCHS,\n",
    "        evaluate_functions=eval_metrics,\n",
    "        evaluate_on_train=True,\n",
    "        use_tensorboard=False,\n",
    "        verbose='text',\n",
    "        seed=SEED\n",
    "    )\n",
    "\n",
    "trainer.fit(train_dataset, val_dataset)"
   ]
  },
  {
   "cell_type": "markdown",
   "id": "c91c8756",
   "metadata": {},
   "source": [
    "Now that the training has ended, the final part is to test and plot the graphs for the results of the training as shown below. "
   ]
  },
  {
   "cell_type": "code",
   "execution_count": 28,
   "id": "2df2f3c7",
   "metadata": {},
   "outputs": [
    {
     "data": {
      "text/plain": [
       "Text(19.4, 0.6571428571428571, 'early stopping')"
      ]
     },
     "execution_count": 28,
     "metadata": {},
     "output_type": "execute_result"
    },
    {
     "data": {
      "image/png": "[encoded data removed]",
      "text/plain": [
       "<Figure size 1000x600 with 4 Axes>"
      ]
     },
     "metadata": {},
     "output_type": "display_data"
    }
   ],
   "source": [
    "import matplotlib.pyplot as plt\n",
    "import numpy as np\n",
    "\n",
    "fig, ((ax_tl, ax_tr), (ax_bl, ax_br)) = plt.subplots(2, 2, sharex=True, sharey='row', figsize=(10, 6))\n",
    "ax_tl.set_title('Training set')\n",
    "ax_tr.set_title('Development set')\n",
    "ax_bl.set_xlabel('Iterations')\n",
    "ax_br.set_xlabel('Iterations')\n",
    "ax_bl.set_ylabel('Accuracy')\n",
    "ax_tl.set_ylabel('Loss')\n",
    "\n",
    "colours = iter(plt.rcParams['axes.prop_cycle'].by_key()['color'])\n",
    "range_ = np.arange(1, trainer.epochs + 1)\n",
    "ax_tl.plot(range_, trainer.train_epoch_costs, color=next(colours))\n",
    "ax_bl.plot(range_, trainer.train_eval_results['acc'], color=next(colours))\n",
    "ax_tr.plot(range_, trainer.val_costs, color=next(colours))\n",
    "ax_br.plot(range_, trainer.val_eval_results['acc'], color=next(colours))\n",
    "\n",
    "# mark best model as circle\n",
    "best_epoch = np.argmax(trainer.val_eval_results['acc'])\n",
    "ax_tl.plot(best_epoch + 1, trainer.train_epoch_costs[best_epoch], 'o', color='black', fillstyle='none')\n",
    "ax_tr.plot(best_epoch + 1, trainer.val_costs[best_epoch], 'o', color='black', fillstyle='none')\n",
    "ax_bl.plot(best_epoch + 1, trainer.train_eval_results['acc'][best_epoch], 'o', color='black', fillstyle='none')\n",
    "ax_br.plot(best_epoch + 1, trainer.val_eval_results['acc'][best_epoch], 'o', color='black', fillstyle='none')\n",
    "\n",
    "ax_br.text(best_epoch + 1.4, trainer.val_eval_results['acc'][best_epoch], 'early stopping', va='center')"
   ]
  },
  {
   "cell_type": "markdown",
   "id": "4ad0b133",
   "metadata": {},
   "source": [
    "Finally, We select the best model (from the best epoch) and use it to get the accuracy on the test data. The best epoch is determined based on the validation accuracy, which is marked on the plot by a circle."
   ]
  },
  {
   "cell_type": "code",
   "execution_count": 29,
   "id": "463a2d27",
   "metadata": {},
   "outputs": [
    {
     "name": "stdout",
     "output_type": "stream",
     "text": [
      "Test Accuracy: 0.4444444444444444\n"
     ]
    }
   ],
   "source": [
    "model.load(trainer.log_dir + '/best_model.lt')\n",
    "test_acc = acc(model(test_circuits), torch.tensor(test_answers))\n",
    "print('Test Accuracy:', test_acc)"
   ]
  }
 ],
 "metadata": {
  "kernelspec": {
   "display_name": "experimentsenv",
   "language": "python",
   "name": "python3"
  },
  "language_info": {
   "codemirror_mode": {
    "name": "ipython",
    "version": 3
   },
   "file_extension": ".py",
   "mimetype": "text/x-python",
   "name": "python",
   "nbconvert_exporter": "python",
   "pygments_lexer": "ipython3",
   "version": "3.10.16"
  }
 },
 "nbformat": 4,
 "nbformat_minor": 5
}
