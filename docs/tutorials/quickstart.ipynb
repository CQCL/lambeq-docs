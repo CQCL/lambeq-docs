{
 "cells": [
  {
   "cell_type": "markdown",
   "id": "11d1f9ab-e33b-47fe-a21e-111b475ee5d4",
   "metadata": {},
   "source": [
    "# Quickstart\n",
    "\n",
    "After installing `lambeq` you can quickly check if everything went OK by using the {ref}`command-line interface <sec-cli>`. Run the following command in a terminal:\n",
    "\n",
    "```bash\n",
    "$ lambeq \"John gave Mary a flower\"\n",
    "```\n",
    "\n",
    "The first time you run `lambeq`, it will need a few minutes to download {term}`Bobcat`'s statistical model. After this you should see in the terminal the {term}`pregroup <pregroup grammar>` diagram for the given sentence:\n",
    "\n",
    "```bash\n",
    "John       gave      Mary    a    flower                                                          \n",
    "────  ─────────────  ────  ─────  ──────\n",
    " n    n.r·s·n.l·n.l   n    n·n.l    n\n",
    " ╰─────╯  │  │   ╰────╯    │  ╰─────╯\n",
    "          │  ╰─────────────╯\n",
    "```\n",
    "\n",
    "You are now ready for some real `lambeq` coding! Let's see how the above result can be achieved programmatically. Open your Python interpreter or a Jupyter notebook and type the following:"
   ]
  },
  {
   "cell_type": "code",
   "execution_count": 1,
   "id": "349e00f4-9288-41f1-89e4-7cd78005acf3",
   "metadata": {},
   "outputs": [],
   "source": [
    "from lambeq import BobcatParser"
   ]
  },
  {
   "cell_type": "markdown",
   "id": "640d03ce-6af7-40f1-abb6-43faabe252ca",
   "metadata": {},
   "source": [
    "Let's create a new {term}`parser` object that we'll use to get the pregroup diagram of the sentence."
   ]
  },
  {
   "cell_type": "code",
   "execution_count": null,
   "id": "c77572ef-d532-461c-b164-26ffbc47014d",
   "metadata": {},
   "outputs": [],
   "source": [
    "parser = BobcatParser()\n",
    "diagram = parser.sentence2diagram(\"John gave Mary a flower\")"
   ]
  },
  {
   "cell_type": "markdown",
   "id": "26da7986-8e31-4335-87aa-9ef38b1c8e62",
   "metadata": {},
   "source": [
    "You can display the diagram by using its {py:meth}`~lambeq.backend.grammar.Diagram.draw` method."
   ]
  },
  {
   "cell_type": "code",
   "execution_count": 3,
   "id": "203da6b2-1c19-4aa4-8857-11adeffafda2",
   "metadata": {},
   "outputs": [
    {
     "data": {
      "image/png": "[encoded data removed]",
      "text/plain": [
       "<Figure size 640x480 with 1 Axes>"
      ]
     },
     "metadata": {},
     "output_type": "display_data"
    }
   ],
   "source": [
    "diagram.draw()"
   ]
  },
  {
   "cell_type": "markdown",
   "id": "a8faae7d-7d6a-4f8c-b822-b4564543d514",
   "metadata": {},
   "source": [
    "To use the above diagram on a quantum computer, we need to first convert it into a {term}`quantum circuit`. This can be done with the help of an {term}`ansatz <ansatz (plural: ansätze)>`. "
   ]
  },
  {
   "cell_type": "code",
   "execution_count": 5,
   "id": "896ba04f-9e82-40f0-adf4-75b87f27eb0b",
   "metadata": {},
   "outputs": [],
   "source": [
    "from lambeq import IQPAnsatz, AtomicType"
   ]
  },
  {
   "cell_type": "markdown",
   "id": "ae16c204-15a7-4fe1-90e9-16b988466242",
   "metadata": {},
   "source": [
    "In order to create the ansatz, we need to provide the number of qubits for each wire. Note that each wire is annotated with a type, `n` representing nouns and `s` the entire sentence; that is the reason for also importing the {py:class}`~.AtomicType` class. To create the ansatz, we need to pass a mapping of each type/wire to a specific number of qubits."
   ]
  },
  {
   "cell_type": "code",
   "execution_count": 8,
   "id": "e44d0afe-1fec-4593-8624-fa0b893e3786",
   "metadata": {},
   "outputs": [],
   "source": [
    "mapping = { AtomicType.NOUN: 1, AtomicType.SENTENCE: 1 }\n",
    "ansatz = IQPAnsatz(mapping, n_layers=1)"
   ]
  },
  {
   "cell_type": "code",
   "execution_count": null,
   "id": "4ee75942-8c05-47bb-9844-e3bdaedeea57",
   "metadata": {},
   "outputs": [],
   "source": []
  }
 ],
 "metadata": {
  "kernelspec": {
   "display_name": "Python 3 (ipykernel)",
   "language": "python",
   "name": "python3"
  },
  "language_info": {
   "codemirror_mode": {
    "name": "ipython",
    "version": 3
   },
   "file_extension": ".py",
   "mimetype": "text/x-python",
   "name": "python",
   "nbconvert_exporter": "python",
   "pygments_lexer": "ipython3",
   "version": "3.11.10"
  }
 },
 "nbformat": 4,
 "nbformat_minor": 5
}
