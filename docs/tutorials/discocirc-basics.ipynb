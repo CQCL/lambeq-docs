{
 "cells": [
  {
   "cell_type": "markdown",
   "id": "3cf227d0-0724-4efc-9f8f-18d81961b713",
   "metadata": {},
   "source": [
    "(sec-text2circ)=\n",
    "\n",
    "# From text to circuit\n",
    "\n",
    "** TBD\n",
    "\n",
    "## Parsing long texts\n",
    "\n",
    "** TBD\n",
    "\n",
    "## Simplifying the diagram\n",
    "\n",
    "** TBD\n",
    "\n",
    "## Pruning infrequent nouns\n",
    "\n",
    "** TBD\n",
    "\n",
    "(sec-sandwich)=\n",
    "## The \"sandwich\" functor\n",
    "\n",
    "- {cite:p}`coecke_2021a`\n",
    "- {cite:p}`duneau_2024`\n",
    "- {cite:p}`laakkonen_2024`\n",
    "\n",
    "```{rubric}See also:\n",
    "```\n",
    "\n",
    "- {ref}`sec-discocirc_training`"
   ]
  }
 ],
 "metadata": {
  "kernelspec": {
   "display_name": "Python 3 (ipykernel)",
   "language": "python",
   "name": "python3"
  },
  "language_info": {
   "codemirror_mode": {
    "name": "ipython",
    "version": 3
   },
   "file_extension": ".py",
   "mimetype": "text/x-python",
   "name": "python",
   "nbconvert_exporter": "python",
   "pygments_lexer": "ipython3",
   "version": "3.11.10"
  }
 },
 "nbformat": 4,
 "nbformat_minor": 5
}
